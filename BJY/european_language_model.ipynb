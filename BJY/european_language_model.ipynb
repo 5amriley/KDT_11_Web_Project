{
 "cells": [
  {
   "cell_type": "markdown",
   "metadata": {},
   "source": [
    "### 영어, 프랑스어, 독일어, 이탈리아어, 스페인어, 라틴어 구분 모델\n",
    "- corpus : 성경 번역본 (-> 따라서, 모델이 성경에 특화됨)\n",
    "- 단어사전 : 영어, 프랑스어, 독일어, 이탈리아어, 스페인어, 라틴어 모두 합쳐서 생성\n",
    "- 데이터셋 : 원문 텍스트의 토큰화 수행, 인코딩된 결과를 제공\n",
    "- 데이터로더 : 텐서화 수행한 결과와 offset 값을 제공\n",
    "- 모델 : EmbeddingBag, Linear 사용"
   ]
  },
  {
   "cell_type": "markdown",
   "metadata": {},
   "source": [
    "(1) 데이터 준비"
   ]
  },
  {
   "cell_type": "code",
   "execution_count": 2,
   "metadata": {},
   "outputs": [],
   "source": [
    "import pandas as pd\n",
    "import os, sys"
   ]
  },
  {
   "cell_type": "code",
   "execution_count": 3,
   "metadata": {},
   "outputs": [],
   "source": [
    "# 1분 40초 걸림 (인내심을 요함)\n",
    "engDF = pd.read_excel('data/English.xlsx')\n",
    "freDF = pd.read_excel('data/French.xlsx')\n",
    "gerDF = pd.read_excel('data/German.xlsx')\n",
    "itaDF = pd.read_excel('data/Italian.xlsx')\n",
    "spaDF = pd.read_excel('data/Spanish.xlsx')\n",
    "latDF = pd.read_excel('data/Latin.xlsx')"
   ]
  },
  {
   "cell_type": "code",
   "execution_count": 4,
   "metadata": {},
   "outputs": [
    {
     "data": {
      "text/html": [
       "<div>\n",
       "<style scoped>\n",
       "    .dataframe tbody tr th:only-of-type {\n",
       "        vertical-align: middle;\n",
       "    }\n",
       "\n",
       "    .dataframe tbody tr th {\n",
       "        vertical-align: top;\n",
       "    }\n",
       "\n",
       "    .dataframe thead th {\n",
       "        text-align: right;\n",
       "    }\n",
       "</style>\n",
       "<table border=\"1\" class=\"dataframe\">\n",
       "  <thead>\n",
       "    <tr style=\"text-align: right;\">\n",
       "      <th></th>\n",
       "      <th>version</th>\n",
       "      <th>version2</th>\n",
       "      <th>h.title</th>\n",
       "      <th>respType</th>\n",
       "      <th>respName</th>\n",
       "      <th>wordCount</th>\n",
       "      <th>byteCount</th>\n",
       "      <th>units</th>\n",
       "      <th>distributor</th>\n",
       "      <th>eAddress</th>\n",
       "      <th>...</th>\n",
       "      <th>id3</th>\n",
       "      <th>id4</th>\n",
       "      <th>lang</th>\n",
       "      <th>id5</th>\n",
       "      <th>type</th>\n",
       "      <th>id6</th>\n",
       "      <th>type7</th>\n",
       "      <th>seg</th>\n",
       "      <th>id8</th>\n",
       "      <th>type9</th>\n",
       "    </tr>\n",
       "  </thead>\n",
       "  <tbody>\n",
       "    <tr>\n",
       "      <th>0</th>\n",
       "      <td>4</td>\n",
       "      <td>2</td>\n",
       "      <td>Bible(ENG)</td>\n",
       "      <td>Constructed in accordance to CES standards.</td>\n",
       "      <td>Christos Christodoulopoulos</td>\n",
       "      <td>789637</td>\n",
       "      <td>5412199</td>\n",
       "      <td>bytes</td>\n",
       "      <td>Bible Database</td>\n",
       "      <td>http://bibledatabase.com</td>\n",
       "      <td>...</td>\n",
       "      <td>utf-8</td>\n",
       "      <td>Bible</td>\n",
       "      <td>en</td>\n",
       "      <td>b.GEN</td>\n",
       "      <td>book</td>\n",
       "      <td>b.GEN.1</td>\n",
       "      <td>chapter</td>\n",
       "      <td>In the beginning God created the heaven and th...</td>\n",
       "      <td>b.GEN.1.1</td>\n",
       "      <td>verse</td>\n",
       "    </tr>\n",
       "  </tbody>\n",
       "</table>\n",
       "<p>1 rows × 32 columns</p>\n",
       "</div>"
      ],
      "text/plain": [
       "   version  version2     h.title                                     respType  \\\n",
       "0        4         2  Bible(ENG)  Constructed in accordance to CES standards.   \n",
       "\n",
       "                      respName  wordCount  byteCount  units     distributor  \\\n",
       "0  Christos Christodoulopoulos     789637    5412199  bytes  Bible Database   \n",
       "\n",
       "                   eAddress  ...    id3    id4 lang    id5  type      id6  \\\n",
       "0  http://bibledatabase.com  ...  utf-8  Bible   en  b.GEN  book  b.GEN.1   \n",
       "\n",
       "     type7                                                seg        id8  \\\n",
       "0  chapter  In the beginning God created the heaven and th...  b.GEN.1.1   \n",
       "\n",
       "   type9  \n",
       "0  verse  \n",
       "\n",
       "[1 rows x 32 columns]"
      ]
     },
     "execution_count": 4,
     "metadata": {},
     "output_type": "execute_result"
    }
   ],
   "source": [
    "# 'seg' 컬럼에 문장 존재\n",
    "engDF.head(1)"
   ]
  },
  {
   "cell_type": "code",
   "execution_count": 5,
   "metadata": {},
   "outputs": [
    {
     "name": "stdout",
     "output_type": "stream",
     "text": [
      "<class 'pandas.core.series.Series'>\n",
      "RangeIndex: 31292 entries, 0 to 31291\n",
      "Series name: seg\n",
      "Non-Null Count  Dtype \n",
      "--------------  ----- \n",
      "31280 non-null  object\n",
      "dtypes: object(1)\n",
      "memory usage: 244.6+ KB\n"
     ]
    }
   ],
   "source": [
    "# itaDF만 'seg' 컬럼이 비정상\n",
    "itaDF['seg'].info()"
   ]
  },
  {
   "cell_type": "code",
   "execution_count": 6,
   "metadata": {},
   "outputs": [
    {
     "data": {
      "text/plain": [
       "12"
      ]
     },
     "execution_count": 6,
     "metadata": {},
     "output_type": "execute_result"
    }
   ],
   "source": [
    "# itaDF 에 결측치 존재\n",
    "itaDF['seg'].isna().sum()"
   ]
  },
  {
   "cell_type": "code",
   "execution_count": 7,
   "metadata": {},
   "outputs": [
    {
     "data": {
      "text/plain": [
       "31280"
      ]
     },
     "execution_count": 7,
     "metadata": {},
     "output_type": "execute_result"
    }
   ],
   "source": [
    "# seg 컬럼값이 na인 행만 삭제\n",
    "itaDF.dropna(subset=['seg'], inplace=True)\n",
    "len(itaDF)"
   ]
  },
  {
   "cell_type": "code",
   "execution_count": 8,
   "metadata": {},
   "outputs": [
    {
     "data": {
      "text/plain": [
       "(31102, 31102, 31102, 31280, 31100)"
      ]
     },
     "execution_count": 8,
     "metadata": {},
     "output_type": "execute_result"
    }
   ],
   "source": [
    "engDF.shape[0], freDF.shape[0], gerDF.shape[0], itaDF.shape[0], spaDF.shape[0]"
   ]
  },
  {
   "cell_type": "code",
   "execution_count": 9,
   "metadata": {},
   "outputs": [
    {
     "name": "stdout",
     "output_type": "stream",
     "text": [
      "(186897,)\n"
     ]
    }
   ],
   "source": [
    "import numpy as np\n",
    "\n",
    "# 피처 생성\n",
    "featureNP = np.concatenate([engDF['seg'].values,\n",
    "                           freDF['seg'].values,\n",
    "                           gerDF['seg'].values,\n",
    "                           itaDF['seg'].values,\n",
    "                           spaDF['seg'].values,\n",
    "                           latDF['seg'].values])\n",
    "print(featureNP.shape)"
   ]
  },
  {
   "cell_type": "code",
   "execution_count": 10,
   "metadata": {},
   "outputs": [
    {
     "name": "stdout",
     "output_type": "stream",
     "text": [
      "(186897,)\n"
     ]
    }
   ],
   "source": [
    "# 타겟 생성\n",
    "targetNP = np.array(['eng'] * engDF.shape[0]\n",
    "                    + ['fre'] * freDF.shape[0]\n",
    "                    + ['ger'] * gerDF.shape[0]\n",
    "                    + ['ita'] * itaDF.shape[0]\n",
    "                    + ['spa'] * spaDF.shape[0]\n",
    "                    + ['lat'] * latDF.shape[0])\n",
    "print(targetNP.shape)\n",
    "\n",
    "# np.repeat(['a'], 10)"
   ]
  },
  {
   "cell_type": "code",
   "execution_count": 11,
   "metadata": {},
   "outputs": [
    {
     "data": {
      "text/plain": [
       "array(['In the beginning God created the heaven and the earth.',\n",
       "       'And the earth was without form, and void; and darkness was upon the face of the deep. And the Spirit of God moved upon the face of the waters.',\n",
       "       'And God said, Let there be light: and there was light.', ...,\n",
       "       'And if any man shall take away from the words of the book of this prophecy, God shall take away his part out of the book of life, and out of the holy city, and from the things which are written in this book.',\n",
       "       'He which testifieth these things saith, Surely I come quickly. Amen. Even so, come, Lord Jesus.',\n",
       "       'The grace of our Lord Jesus Christ be with you all. Amen.'],\n",
       "      dtype=object)"
      ]
     },
     "execution_count": 11,
     "metadata": {},
     "output_type": "execute_result"
    }
   ],
   "source": [
    "engDF['seg'].values"
   ]
  },
  {
   "cell_type": "code",
   "execution_count": 12,
   "metadata": {},
   "outputs": [],
   "source": [
    "from sklearn.model_selection import train_test_split\n",
    "\n",
    "### 훈련, 검증, 테스트 데이터셋으로 분리\n",
    "x_train, x_test, y_train, y_test = train_test_split(featureNP, targetNP, \n",
    "                                                    test_size=0.2, stratify=targetNP)\n",
    "\n",
    "x_train, x_valid, y_train, y_valid = train_test_split(x_train, y_train, \n",
    "                                                    test_size=0.125, stratify=y_train)"
   ]
  },
  {
   "cell_type": "code",
   "execution_count": 13,
   "metadata": {},
   "outputs": [
    {
     "name": "stdout",
     "output_type": "stream",
     "text": [
      "(130827,) (130827,)\n",
      "(18690,) (18690,)\n",
      "(37380,) (37380,)\n"
     ]
    }
   ],
   "source": [
    "print(x_train.shape, y_train.shape)\n",
    "print(x_valid.shape, y_valid.shape)\n",
    "print(x_test.shape, y_test.shape)"
   ]
  },
  {
   "cell_type": "code",
   "execution_count": 14,
   "metadata": {},
   "outputs": [
    {
     "name": "stdout",
     "output_type": "stream",
     "text": [
      "train 데이터셋의 크기 : 130827\n",
      "eng: 21771\n",
      "fre: 21771\n",
      "ger: 21771\n",
      "ita: 21896\n",
      "lat: 21848\n",
      "spa: 21770\n"
     ]
    }
   ],
   "source": [
    "# 배열에서 고유한 값과 빈도를 계산\n",
    "unique_values, counts = np.unique(y_train, return_counts=True)\n",
    "\n",
    "# 결과 출력\n",
    "print(f'train 데이터셋의 크기 : {len(y_train)}')\n",
    "for value, count in zip(unique_values, counts):\n",
    "    print(f'{value}: {count}')"
   ]
  },
  {
   "cell_type": "markdown",
   "metadata": {},
   "source": [
    "(2) 단어사전 생성"
   ]
  },
  {
   "cell_type": "code",
   "execution_count": 15,
   "metadata": {},
   "outputs": [],
   "source": [
    "from nltk.corpus import stopwords"
   ]
  },
  {
   "cell_type": "code",
   "execution_count": 16,
   "metadata": {},
   "outputs": [
    {
     "name": "stdout",
     "output_type": "stream",
     "text": [
      "['au', 'aux', 'avec', 'ce', 'ces', 'dans', 'de', 'des', 'du', 'elle', 'en', 'et', 'eux', 'il', 'ils', 'je', 'la', 'le', 'les', 'leur', 'lui', 'ma', 'mais', 'me', 'même', 'mes', 'moi', 'mon', 'ne', 'nos', 'notre', 'nous', 'on', 'ou', 'par', 'pas', 'pour', 'qu', 'que', 'qui', 'sa', 'se', 'ses', 'son', 'sur', 'ta', 'te', 'tes', 'toi', 'ton', 'tu', 'un', 'une', 'vos', 'votre', 'vous', 'c', 'd', 'j', 'l', 'à', 'm', 'n', 's', 't', 'y', 'été', 'étée', 'étées', 'étés', 'étant', 'étante', 'étants', 'étantes', 'suis', 'es', 'est', 'sommes', 'êtes', 'sont', 'serai', 'seras', 'sera', 'serons', 'serez', 'seront', 'serais', 'serait', 'serions', 'seriez', 'seraient', 'étais', 'était', 'étions', 'étiez', 'étaient', 'fus', 'fut', 'fûmes', 'fûtes', 'furent', 'sois', 'soit', 'soyons', 'soyez', 'soient', 'fusse', 'fusses', 'fût', 'fussions', 'fussiez', 'fussent', 'ayant', 'ayante', 'ayantes', 'ayants', 'eu', 'eue', 'eues', 'eus', 'ai', 'as', 'avons', 'avez', 'ont', 'aurai', 'auras', 'aura', 'aurons', 'aurez', 'auront', 'aurais', 'aurait', 'aurions', 'auriez', 'auraient', 'avais', 'avait', 'avions', 'aviez', 'avaient', 'eut', 'eûmes', 'eûtes', 'eurent', 'aie', 'aies', 'ait', 'ayons', 'ayez', 'aient', 'eusse', 'eusses', 'eût', 'eussions', 'eussiez', 'eussent']\n",
      "157\n"
     ]
    }
   ],
   "source": [
    "language_types = ['english', 'french', 'german', 'italian', 'spanish']\n",
    "\n",
    "# 각 언어별 불용어 (nltk 패키지)\n",
    "print(stopwords.words(language_types[1]))\n",
    "print(len(stopwords.words(language_types[1])))"
   ]
  },
  {
   "cell_type": "code",
   "execution_count": 17,
   "metadata": {},
   "outputs": [],
   "source": [
    "from torchtext.data.utils import get_tokenizer\n",
    "from torchtext.vocab import build_vocab_from_iterator\n",
    "\n",
    "### 토크나이저 생성 (영어 기반)\n",
    "tokenizer = get_tokenizer(\"basic_english\")"
   ]
  },
  {
   "cell_type": "code",
   "execution_count": 18,
   "metadata": {},
   "outputs": [
    {
     "name": "stdout",
     "output_type": "stream",
     "text": [
      "!\"#$%&'()*+,-./:;<=>?@[\\]^_`{|}~\n"
     ]
    }
   ],
   "source": [
    "import string\n",
    "\n",
    "print(string.punctuation)"
   ]
  },
  {
   "cell_type": "code",
   "execution_count": 19,
   "metadata": {},
   "outputs": [
    {
     "name": "stdout",
     "output_type": "stream",
     "text": [
      "Ti ricordiamo che il nostro lavoro ha un costo ripagato dalla pubblicità e dai sostenitori Il tuo aiuto è per noi indispensabile\n"
     ]
    }
   ],
   "source": [
    "import re\n",
    "\n",
    "# 특수문자 제거를 위한 정규식 패턴\n",
    "# \\w: 단어 문자 (알파벳, 숫자, 언더스코어)\n",
    "# \\s: 공백 문자 (스페이스, 탭, 개행)\n",
    "# \\': 어퍼스트로피\n",
    "# a-zA-Z : 영어 알파벳\n",
    "# \\u00e0-\\u00ff : 프랑스어에서 사용되는 특수문자들 (é, à, è, ê 등 포함)\n",
    "# \\u00e4-\\u00fc\\u00df : 독일어에서 사용되는 특수문자들 (ä, ö, ü, ß)\n",
    "# \\u00e0-\\u00fc : 이탈리아어에서 사용되는 특수문자들 (à, è, ì, ò, ù)\n",
    "# \\u00e1-\\u00fa\\u00fc\\u00f1 : 스페인어에서 사용되는 특수문자들 (á, é, í, ó, ú, ü, ñ)\n",
    "pattern = r'[^\\w\\s\\'＇ʼ’`]'  # 단어 문자(알파벳, 숫자)와 공백, 어퍼스트로피를 제외한 모든 문자\n",
    "pattern2 = r'[^a-zA-Z\\u00df-\\u00ff\\s\\'＇ʼ’`]'\n",
    "\n",
    "# 프랑스어 문장\n",
    "french_sentence = \"3. L’Iran a tiré vers l’Etat hébreu dans la nuit plus de 300 projectiles, selon l’armée israélienne, dont « plus de 200 drones », des missiles de croisière et « plus de 120 missiles balistiques ». Des « dégâts mineurs » ont été relevés sur une base militaire du Néguev. La France a condamné « avec la plus grande fermeté » cette attaque.\"\n",
    "french_sentence2 = \"La terre était informe et vide: il y avait des ténèbres à la surface de l`abîme, et l`esprit de Dieu se mouvait au-dessus des eaux.\"\n",
    "\n",
    "# 이탈리아어 문장\n",
    "italian1 = \"Il gatto sta dormendo sul tappeto. È una bella giornata!\"\n",
    "italian2 = \"Ti ricordiamo che il nostro lavoro ha un costo ripagato dalla pubblicità e dai sostenitori. Il tuo aiuto è per noi indispensabile.\"\n",
    "\n",
    "# 정규식을 사용하여 특수문자 제거\n",
    "cleaned_sentence = re.sub(pattern2, '', italian2)\n",
    "\n",
    "# 토큰화\n",
    "tokens = cleaned_sentence.lower().split()\n",
    "\n",
    "print(cleaned_sentence)"
   ]
  },
  {
   "cell_type": "code",
   "execution_count": null,
   "metadata": {},
   "outputs": [],
   "source": [
    "french_sentence = \"3. L’Iran a tiré vers l’Etat hébreu dans la nuit plus de 300 projectiles,\\\n",
    "                     selon l’armée israélienne, dont « plus de 200 drones », \\\n",
    "                        des missiles de croisière et « plus de 120 missiles balistiques ». \\\n",
    "                            Des « dégâts mineurs » ont été relevés sur une base militaire du Néguev. \\\n",
    "                                La France a condamné « avec la plus grande fermeté » cette attaque.\""
   ]
  },
  {
   "cell_type": "code",
   "execution_count": 73,
   "metadata": {},
   "outputs": [
    {
     "name": "stdout",
     "output_type": "stream",
     "text": [
      "Des  dgts mineurs  ont t relevs sur une base militaire du Nguev\n"
     ]
    }
   ],
   "source": [
    "pattern = r'[^a-zA-Z\\s\\'＇ʼ’`]'  # 단어 문자(알파벳, 숫자)와 공백, 어퍼스트로피를 제외한 모든 문자\n",
    "# 프랑스어 문장\n",
    "french_sentence = \"Des « dégâts mineurs » ont été relevés sur une base militaire du Néguev.\"\n",
    "# 정규식을 사용하여 특수문자 제거\n",
    "cleaned_sentence = re.sub(pattern, '', french_sentence)\n",
    "print(cleaned_sentence)"
   ]
  },
  {
   "cell_type": "code",
   "execution_count": 20,
   "metadata": {},
   "outputs": [],
   "source": [
    "import re\n",
    "\n",
    "def yield_tokens(data_iter):    # 중요 포인트! 생성자를 만든 다음에 건네줘야 한다\n",
    "    # pattern = r'[^\\w\\s\\'＇ʼ’`]'\n",
    "    pattern = r'[^a-zA-Z\\u00df-\\u00ff\\s\\'＇ʼ’`]'      # 알파벳(+ 특수 알파벳)와 공백, 어퍼스트로피를 제외한 모든 문자\n",
    "\n",
    "    for text in data_iter:\n",
    "        temp = re.sub(pattern, '', text)    # 토큰화 이전 전처리 (위 패턴에 해당 -> 삭제)\n",
    "        temp = tokenizer(temp)              # 토큰화\n",
    "        yield [t for t in temp if t not in string.punctuation]  # 구두점 토큰 제외"
   ]
  },
  {
   "cell_type": "code",
   "execution_count": 21,
   "metadata": {},
   "outputs": [],
   "source": [
    "### 맨 처음 어떤 문장을 받았을 때 그것이 무슨 언어인지 모르니까,\n",
    "### 단어사전을 따로 만드는 것이 의미가 없다.\n",
    "# eng_iter = iter(engDF['seg'].values)\n",
    "# fre_iter = iter(freDF['seg'].values)\n",
    "# ger_iter = iter(gerDF['seg'].values)\n",
    "\n",
    "# eng_vocab = build_vocab_from_iterator(yield_tokens(eng_iter),\n",
    "#                                       min_freq=2, specials=[\"<UNK>\"])\n",
    "\n",
    "# fre_vocab = build_vocab_from_iterator(yield_tokens(fre_iter),\n",
    "#                                       min_freq=2, specials=[\"<UNK>\"])\n",
    "\n",
    "# ger_vocab = build_vocab_from_iterator(yield_tokens(ger_iter),\n",
    "#                                       min_freq=2, specials=[\"<UNK>\"])"
   ]
  },
  {
   "cell_type": "code",
   "execution_count": 22,
   "metadata": {},
   "outputs": [],
   "source": [
    "### 이탈리아어 토크나이저 사용예시\n",
    "# import nltk\n",
    "# from nltk.tokenize import word_tokenize\n",
    "\n",
    "# nltk.download('punkt')  # 토크나이저를 사용하기 전에 다운로드\n",
    "\n",
    "# # 이탈리아어 문장\n",
    "# italian_input1 = \"Il gatto sta dormendo sul tappeto.\"\n",
    "# italian_input2 = \"Dio disse: «Sia la luce!». E la luce fu\"\n",
    "# tokens = word_tokenize(italian_input2, language='italian')\n",
    "# print(tokens)"
   ]
  },
  {
   "cell_type": "code",
   "execution_count": 23,
   "metadata": {},
   "outputs": [],
   "source": [
    "### (구두점 제외된) 단어사전 생성\n",
    "train_iter = iter(x_train)\n",
    "entire_vocab = build_vocab_from_iterator(yield_tokens(featureNP),\n",
    "                                      min_freq=2, specials=[\"<UNK>\"])"
   ]
  },
  {
   "cell_type": "code",
   "execution_count": 24,
   "metadata": {},
   "outputs": [],
   "source": [
    "# <UNK> 인덱스를 0으로 설정\n",
    "entire_vocab.set_default_index(entire_vocab[\"<UNK>\"])"
   ]
  },
  {
   "cell_type": "code",
   "execution_count": 25,
   "metadata": {},
   "outputs": [
    {
     "name": "stdout",
     "output_type": "stream",
     "text": [
      "vocab_size : 86097\n"
     ]
    }
   ],
   "source": [
    "# 단어사전 개수\n",
    "vocab_size = len(entire_vocab)\n",
    "\n",
    "print(f'vocab_size : {vocab_size}')"
   ]
  },
  {
   "cell_type": "code",
   "execution_count": 26,
   "metadata": {},
   "outputs": [
    {
     "data": {
      "text/plain": [
       "['are', 'you', 'ok', '?']"
      ]
     },
     "execution_count": 26,
     "metadata": {},
     "output_type": "execute_result"
    }
   ],
   "source": [
    "tokenizer('Are you ok?')"
   ]
  },
  {
   "cell_type": "code",
   "execution_count": 27,
   "metadata": {},
   "outputs": [
    {
     "data": {
      "text/plain": [
       "[170, 199, 0, 0]"
      ]
     },
     "execution_count": 27,
     "metadata": {},
     "output_type": "execute_result"
    }
   ],
   "source": [
    "entire_vocab(tokenizer('Are you ok?'))"
   ]
  },
  {
   "cell_type": "code",
   "execution_count": 28,
   "metadata": {},
   "outputs": [
    {
     "data": {
      "text/plain": [
       "[0, 2567, 69, 92, 29490]"
      ]
     },
     "execution_count": 28,
     "metadata": {},
     "output_type": "execute_result"
    }
   ],
   "source": [
    "entire_vocab(['<unk>', 'here', 'is', 'an', 'example'])"
   ]
  },
  {
   "cell_type": "code",
   "execution_count": 29,
   "metadata": {},
   "outputs": [
    {
     "data": {
      "text/plain": [
       "['puis', 'dieu', 'dit', 'que', 'la', 'terre', 'produise', 'de', 'la', 'ver']"
      ]
     },
     "execution_count": 29,
     "metadata": {},
     "output_type": "execute_result"
    }
   ],
   "source": [
    "tokenizer('Puis Dieu dit: Que la terre produise de la ver')"
   ]
  },
  {
   "cell_type": "code",
   "execution_count": 30,
   "metadata": {},
   "outputs": [
    {
     "data": {
      "text/plain": [
       "[1020, 124, 135, 11, 4, 411, 42613, 1, 4, 1628]"
      ]
     },
     "execution_count": 30,
     "metadata": {},
     "output_type": "execute_result"
    }
   ],
   "source": [
    "entire_vocab(tokenizer('Puis Dieu dit: Que la terre produise de la ver'))"
   ]
  },
  {
   "cell_type": "code",
   "execution_count": 31,
   "metadata": {},
   "outputs": [
    {
     "data": {
      "text/plain": [
       "[7, 21, 172, 189, 4198, 7, 9248, 0]"
      ]
     },
     "execution_count": 31,
     "metadata": {},
     "output_type": "execute_result"
    }
   ],
   "source": [
    "entire_vocab(['und', 'die', 'gott', 'war', 'wüst', 'und', 'leer', '?'])"
   ]
  },
  {
   "cell_type": "code",
   "execution_count": 32,
   "metadata": {},
   "outputs": [
    {
     "data": {
      "text/plain": [
       "0            In principio Dio creò il cielo e la terra\n",
       "1    Ora la terra era informe e deserta e le tenebr...\n",
       "2              Dio disse: «Sia la luce!». E la luce fu\n",
       "3    Dio vide che la luce era cosa buona e separò l...\n",
       "4    e chiamò la luce giorno e le tenebre notte. E ...\n",
       "5    Dio disse: «Sia il firmamento in mezzo alle ac...\n",
       "Name: seg, dtype: object"
      ]
     },
     "execution_count": 32,
     "metadata": {},
     "output_type": "execute_result"
    }
   ],
   "source": [
    "itaDF.loc[:5, 'seg']"
   ]
  },
  {
   "cell_type": "code",
   "execution_count": 33,
   "metadata": {},
   "outputs": [
    {
     "data": {
      "text/plain": [
       "['dio', 'disse', '«sia', 'la', 'luce', '!', '»', '.', 'e', 'la', 'luce', 'fu']"
      ]
     },
     "execution_count": 33,
     "metadata": {},
     "output_type": "execute_result"
    }
   ],
   "source": [
    "tokenizer(\" Dio disse: «Sia la luce!». E la luce fu\")"
   ]
  },
  {
   "cell_type": "code",
   "execution_count": 44,
   "metadata": {},
   "outputs": [
    {
     "data": {
      "text/plain": [
       "[107, 239, 0, 4, 1969, 0, 0, 0, 14, 4, 1969, 463]"
      ]
     },
     "execution_count": 44,
     "metadata": {},
     "output_type": "execute_result"
    }
   ],
   "source": [
    "entire_vocab(tokenizer(\" Dio disse: «Sia la luce!». E la luce fu\"))"
   ]
  },
  {
   "cell_type": "code",
   "execution_count": 43,
   "metadata": {},
   "outputs": [
    {
     "data": {
      "text/plain": [
       "[0]"
      ]
     },
     "execution_count": 43,
     "metadata": {},
     "output_type": "execute_result"
    }
   ],
   "source": [
    "entire_vocab(['?'])"
   ]
  },
  {
   "cell_type": "code",
   "execution_count": 37,
   "metadata": {},
   "outputs": [],
   "source": [
    "import pickle\n",
    "\n",
    "# Vocab 객체를 pkl 파일로 저장\n",
    "# with open('model/vocab.pkl', 'wb') as f:\n",
    "#     pickle.dump(entire_vocab, f)\n",
    "\n",
    "# 저장된 pkl 파일 불러오기\n",
    "with open('model/vocab.pkl', 'rb') as f:\n",
    "    entire_vocab = pickle.load(f)"
   ]
  },
  {
   "cell_type": "markdown",
   "metadata": {},
   "source": [
    "데이터셋, 데이터로더 만들기"
   ]
  },
  {
   "cell_type": "code",
   "execution_count": 50,
   "metadata": {},
   "outputs": [],
   "source": [
    "# 텍스트 > 정수 인코딩\n",
    "text_pipeline = lambda x: entire_vocab(tokenizer(x))\n",
    "\n",
    "# 레이블 > 정수 인코딩\n",
    "label_pipeline = {'eng': 0, 'fre': 1, 'ger': 2, 'ita': 3, 'spa': 4, 'lat': 5}"
   ]
  },
  {
   "cell_type": "code",
   "execution_count": 51,
   "metadata": {},
   "outputs": [],
   "source": [
    "### 커스텀 데이터셋 생성\n",
    "from torch.utils.data import Dataset, DataLoader\n",
    "\n",
    "class TextDataset(Dataset):\n",
    "    \"\"\" 단어사전을 사용하여 인코딩 수행, 구두점 제거 \"\"\"\n",
    "    def __init__(self, text, label):\n",
    "        self.text = []      # self.text = text 를 하면, 원본 ndarray가 변경된다.\n",
    "        self.label = []\n",
    "\n",
    "        # 단어 인코딩(+ 구두점 제거)\n",
    "        for txt in text:\n",
    "            self.text.append(text_pipeline(txt))\n",
    "        \n",
    "        # 라벨 인코딩\n",
    "        for lbl in label:\n",
    "            self.label.append(label_pipeline[lbl])\n",
    "    \n",
    "    def __len__(self):\n",
    "        return len(self.text)\n",
    "    \n",
    "    def __getitem__(self, i):\n",
    "        t_i = self.text[i]\n",
    "        l_i = self.label[i]\n",
    "        \n",
    "        return t_i, l_i"
   ]
  },
  {
   "cell_type": "code",
   "execution_count": 52,
   "metadata": {},
   "outputs": [],
   "source": [
    "trainDS = TextDataset(x_train, y_train)\n",
    "validDS = TextDataset(x_valid, y_valid)\n",
    "testDS = TextDataset(x_test, y_test)"
   ]
  },
  {
   "cell_type": "code",
   "execution_count": 53,
   "metadata": {},
   "outputs": [
    {
     "name": "stdout",
     "output_type": "stream",
     "text": [
      "[72, 215, 8, 588, 0, 38, 271, 1145, 18, 550, 81, 11, 1288, 3081, 208, 4, 181, 1, 776, 0, 3081, 11, 347, 25844, 722, 0]\n",
      "4\n"
     ]
    }
   ],
   "source": [
    "for txt , lbl in trainDS:\n",
    "    print(txt)\n",
    "    print(lbl)\n",
    "    break"
   ]
  },
  {
   "cell_type": "code",
   "execution_count": 54,
   "metadata": {},
   "outputs": [],
   "source": [
    "import torch\n",
    "from torch.utils.data import DataLoader\n",
    "\n",
    "device = torch.device(\"cuda\" if torch.cuda.is_available() else \"cpu\")"
   ]
  },
  {
   "cell_type": "code",
   "execution_count": 55,
   "metadata": {},
   "outputs": [],
   "source": [
    "# 배치크기만큼 데이터셋 가공, 반환하는 함수\n",
    "def collate_batch(batch):\n",
    "    \n",
    "    text_list, label_list, offsets = [], [], [0]\n",
    "\n",
    "    # 1개씩 인코딩된 문장, 라벨 꺼내서 offset 계산\n",
    "    for _text, _label in batch:\n",
    "        tensor_text = torch.tensor(_text, dtype=torch.int64)\n",
    "        text_list.append(tensor_text)\n",
    "        # 텍스트 offset 즉, 텍스트 길이/크기 저장\n",
    "        offsets.append(tensor_text.size(0)) # 스칼라값 추가\n",
    "\n",
    "        label_list.append(_label)\n",
    "    \n",
    "    # 텐서화 진행\n",
    "    text_list = torch.cat(text_list)    # 텐서들의 시퀀스(리스트, 튜플)을 넘겨줌\n",
    "    label_list = torch.tensor(label_list, dtype=torch.int64)\n",
    "    offsets = torch.tensor(offsets[:-1]).cumsum(dim=0)\n",
    "\n",
    "    return text_list.to(device), label_list.to(device), offsets.to(device)"
   ]
  },
  {
   "cell_type": "code",
   "execution_count": 100,
   "metadata": {},
   "outputs": [],
   "source": [
    "# offsets = [0, 4, 6, 1, 3, 2, 2]\n",
    "# torch.tensor(offsets[:-1]).cumsum(dim=0)"
   ]
  },
  {
   "cell_type": "code",
   "execution_count": 56,
   "metadata": {},
   "outputs": [],
   "source": [
    "trainDL = DataLoader(trainDS, batch_size=128, shuffle=False, collate_fn=collate_batch)\n",
    "validDL = DataLoader(validDS, batch_size=128, shuffle=False, collate_fn=collate_batch)\n",
    "testDL = DataLoader(testDS, batch_size=128, shuffle=False, collate_fn=collate_batch)"
   ]
  },
  {
   "cell_type": "code",
   "execution_count": 57,
   "metadata": {},
   "outputs": [
    {
     "name": "stdout",
     "output_type": "stream",
     "text": [
      "tensor([   72,   215,     8,  ...,   225, 24137,     0])\n",
      "tensor([4, 0, 1, 5, 2, 0, 2, 2, 5, 5, 0, 4, 4, 1, 5, 5, 5, 0, 3, 3, 3, 4, 1, 1,\n",
      "        5, 5, 4, 5, 0, 4, 5, 2, 0, 4, 1, 0, 4, 0, 0, 4, 3, 2, 0, 4, 0, 0, 0, 0,\n",
      "        0, 3, 2, 1, 3, 1, 4, 2, 1, 3, 1, 4, 2, 0, 2, 3, 2, 4, 4, 2, 2, 3, 0, 3,\n",
      "        2, 0, 1, 1, 4, 5, 4, 2, 0, 0, 4, 4, 0, 2, 4, 0, 4, 2, 2, 0, 2, 0, 0, 4,\n",
      "        3, 0, 0, 4, 2, 5, 4, 0, 4, 0, 5, 2, 5, 5, 5, 5, 0, 1, 5, 1, 2, 3, 4, 5,\n",
      "        1, 1, 1, 0, 0, 0, 5, 1])\n",
      "tensor([   0,   26,   62,  104,  130,  152,  196,  214,  232,  249,  274,  283,\n",
      "         312,  336,  393,  416,  436,  453,  500,  521,  546,  568,  585,  602,\n",
      "         609,  623,  639,  654,  685,  705,  744,  769,  829,  846,  872,  897,\n",
      "         923,  938,  973,  997, 1007, 1018, 1031, 1049, 1101, 1122, 1134, 1165,\n",
      "        1180, 1193, 1224, 1255, 1289, 1309, 1351, 1377, 1407, 1434, 1452, 1470,\n",
      "        1486, 1515, 1527, 1545, 1559, 1579, 1615, 1653, 1679, 1698, 1711, 1736,\n",
      "        1749, 1793, 1817, 1838, 1867, 1909, 1923, 1948, 1974, 2008, 2034, 2048,\n",
      "        2068, 2097, 2132, 2175, 2214, 2247, 2256, 2280, 2306, 2326, 2346, 2393,\n",
      "        2408, 2419, 2447, 2487, 2503, 2525, 2535, 2598, 2612, 2632, 2638, 2668,\n",
      "        2691, 2700, 2717, 2730, 2765, 2785, 2830, 2840, 2862, 2891, 2931, 2950,\n",
      "        2963, 3000, 3048, 3074, 3099, 3111, 3135, 3144])\n"
     ]
    }
   ],
   "source": [
    "for texts, labels, offsets in trainDL:\n",
    "    print(texts)\n",
    "    print(labels)\n",
    "    print(offsets)\n",
    "    break"
   ]
  },
  {
   "cell_type": "markdown",
   "metadata": {},
   "source": [
    "(4) 모델 생성"
   ]
  },
  {
   "cell_type": "code",
   "execution_count": 58,
   "metadata": {},
   "outputs": [],
   "source": [
    "import torch.nn as nn\n",
    "\n",
    "class LangModel(nn.Module):\n",
    "    def __init__(self, VOCAB_SIZE, EMBEDD_DIM, HIDDEN_SIZE, NUM_CLASS):\n",
    "        super().__init__()\n",
    "        # 모델 구성 층 정의\n",
    "        self.embedding = nn.EmbeddingBag(VOCAB_SIZE, EMBEDD_DIM, sparse=False)\n",
    "        self.fc = nn.Linear(EMBEDD_DIM, NUM_CLASS)\n",
    "        self.init_weights()\n",
    "    \n",
    "    # 가중치 초기화\n",
    "    def init_weights(self):\n",
    "        initrange = 0.5\n",
    "        self.embedding.weight.data.uniform_(-initrange, initrange)\n",
    "        self.fc.weight.data.uniform_(-initrange, initrange)\n",
    "        self.fc.bias.data.zero_()\n",
    "    \n",
    "    # 순방향 학습 진행\n",
    "    def forward(self, text, offsets):\n",
    "        x = self.embedding(text, offsets)\n",
    "        x = self.fc(x)\n",
    "        return x"
   ]
  },
  {
   "cell_type": "code",
   "execution_count": 104,
   "metadata": {},
   "outputs": [],
   "source": [
    "# 학습 관련 파라미터\n",
    "HIDDEN_SIZE=3\n",
    "EMBEDD_DIM=128\n",
    "VOCAB_SIZE = len(entire_vocab)\n",
    "NUM_CLASS = len(set([label for _, label in validDS]))\n",
    "\n",
    "EPOCHS = 10"
   ]
  },
  {
   "cell_type": "code",
   "execution_count": 61,
   "metadata": {},
   "outputs": [],
   "source": [
    "# 모델 불러오기\n",
    "MODEL = torch.load('./model/latin_epoch10_model.pth')"
   ]
  },
  {
   "cell_type": "code",
   "execution_count": 105,
   "metadata": {},
   "outputs": [],
   "source": [
    "# 학습 관련 인스턴스\n",
    "import torch.optim as optim\n",
    "\n",
    "# MODEL = LangModel(VOCAB_SIZE, EMBEDD_DIM, HIDDEN_SIZE, NUM_CLASS) # 새 모델 생성\n",
    "CRITERION = nn.CrossEntropyLoss()\n",
    "OPTIMIZER = optim.Adam(MODEL.parameters())\n",
    "SCHEDULER = optim.lr_scheduler.StepLR(OPTIMIZER, 1.0, gamma=0.1) # learning rate를 줄이는 용도"
   ]
  },
  {
   "cell_type": "code",
   "execution_count": 106,
   "metadata": {},
   "outputs": [],
   "source": [
    "### 학습 관련 함수 정의\n",
    "def train(model, dataloader, criterion, optimizer, epoch):\n",
    "    # 학습 모드\n",
    "    model.train()\n",
    "\n",
    "    # 학습 평가 관련 변수들\n",
    "    total_acc, total_count = 0,0\n",
    "    log_interval=100\n",
    "    \n",
    "    for idx, (text, label, offsets) in enumerate(dataloader):\n",
    "        # print(f'text: {text}')\n",
    "        # print(f'text 길이 : {len(text)}')\n",
    "        # print(f'offsets: {offsets}')\n",
    "        # print(f'offsets 길이 : {len(offsets)}')\n",
    "        predicted_label = model(text, offsets)\n",
    "        optimizer.zero_grad()\n",
    "        loss = criterion(predicted_label, label)\n",
    "        loss.backward()\n",
    "        torch.nn.utils.clip_grad_norm_(model.parameters(), 0.1)\n",
    "        optimizer.step()\n",
    "        \n",
    "        # 배치 학습 평가\n",
    "        total_acc += (predicted_label.argmax(1) == label).sum().item()\n",
    "        total_count += label.size(0)\n",
    "        \n",
    "        # if idx % log_interval == 0 and idx > 0:\n",
    "        #     print(f\"epoch : {epoch} batch : {idx} loss : {loss.item()}\")\n",
    "        #     print(f\"Accuracy : {total_acc/total_count}\")\n",
    "        #     total_acc, total_count = 0,0\n",
    "\n",
    "        if not idx%100: print('.', end='')\n",
    "    \n",
    "    print(f'\\n[Train] Loss : {loss.item()}, Accuracy : {total_acc/total_count}')\n",
    "    \n",
    "    return loss.item(), total_acc/total_count"
   ]
  },
  {
   "cell_type": "code",
   "execution_count": 107,
   "metadata": {},
   "outputs": [],
   "source": [
    "### 평가 관련 함수 정의\n",
    "def evaluate(model, dataloader, criterion):\n",
    "    # 평가 모드\n",
    "    model.eval()\n",
    "    \n",
    "    total_acc, total_count = 0,0\n",
    "    \n",
    "    with torch.no_grad():\n",
    "        for idx, (text, label, offsets) in enumerate(dataloader):\n",
    "            predicted_label = model(text, offsets)\n",
    "            loss = criterion(predicted_label, label)\n",
    "            total_acc += (predicted_label.argmax(1) == label).sum().item()\n",
    "            total_count += label.size(0)\n",
    "    \n",
    "    print(f'Loss : {loss.item()}, Accuracy : {total_acc/total_count}')\n",
    "    \n",
    "    return loss.item(), total_acc/total_count"
   ]
  },
  {
   "cell_type": "code",
   "execution_count": 108,
   "metadata": {},
   "outputs": [
    {
     "name": "stdout",
     "output_type": "stream",
     "text": [
      "[EPOCH 1] ...........\n",
      "[Train] Loss : 0.00917849875986576, Accuracy : 0.9758153897895694\n",
      "[VALID] Loss : 0.00019727078324649483, Accuracy : 0.9980203317281969\n",
      "[EPOCH 2] ...........\n",
      "[Train] Loss : 0.006566548254340887, Accuracy : 0.9986776429941832\n",
      "[VALID] Loss : 0.00014017971989233047, Accuracy : 0.9980738362760835\n",
      "[EPOCH 3] ...........\n",
      "[Train] Loss : 0.006323074921965599, Accuracy : 0.9987922982259014\n",
      "[VALID] Loss : 0.0001332665851805359, Accuracy : 0.9980738362760835\n",
      "[EPOCH 4] ...........\n",
      "[Train] Loss : 0.0062920222990214825, Accuracy : 0.9987999419080159\n",
      "[VALID] Loss : 0.00013231304183136672, Accuracy : 0.9980738362760835\n",
      "[EPOCH 5] ...........\n",
      "[Train] Loss : 0.006288675591349602, Accuracy : 0.9987999419080159\n",
      "[VALID] Loss : 0.00013219384709373116, Accuracy : 0.9980738362760835\n",
      "[EPOCH 6] ...........\n",
      "[Train] Loss : 0.006288551259785891, Accuracy : 0.9987999419080159\n",
      "[VALID] Loss : 0.00013219384709373116, Accuracy : 0.9980738362760835\n",
      "[EPOCH 7] ...........\n",
      "[Train] Loss : 0.006288551259785891, Accuracy : 0.9987999419080159\n",
      "[VALID] Loss : 0.00013219384709373116, Accuracy : 0.9980738362760835\n",
      "[EPOCH 8] ...........\n",
      "[Train] Loss : 0.006288551259785891, Accuracy : 0.9987999419080159\n",
      "[VALID] Loss : 0.00013219384709373116, Accuracy : 0.9980738362760835\n",
      "[EPOCH 9] ...........\n",
      "[Train] Loss : 0.006288551259785891, Accuracy : 0.9987999419080159\n",
      "[VALID] Loss : 0.00013219384709373116, Accuracy : 0.9980738362760835\n",
      "[EPOCH 10] ...........\n",
      "[Train] Loss : 0.006288551259785891, Accuracy : 0.9987999419080159\n",
      "[VALID] Loss : 0.00013219384709373116, Accuracy : 0.9980738362760835\n"
     ]
    }
   ],
   "source": [
    "# 학습 진행 (21분 걸림 - 10 EPOCHS)\n",
    "train_loss, train_acc = [], []\n",
    "valid_loss, valid_acc = [], []\n",
    "\n",
    "for epoch in range(1, EPOCHS+1):\n",
    "    print(f'[EPOCH {epoch}]', end=' ')\n",
    "    loss, acc = train(MODEL, trainDL, CRITERION, OPTIMIZER, epoch)\n",
    "    train_loss.append(loss)\n",
    "    train_acc.append(acc)\n",
    "    print('[VALID]', end=' ')\n",
    "    loss, acc = evaluate(MODEL, validDL, CRITERION)\n",
    "    valid_loss.append(loss)\n",
    "    valid_acc.append(acc)\n",
    "    # print(f\"epoch : {epoch} Accuracy : {accu_val}\")\n",
    "    SCHEDULER.step()"
   ]
  },
  {
   "cell_type": "code",
   "execution_count": 122,
   "metadata": {},
   "outputs": [
    {
     "name": "stdout",
     "output_type": "stream",
     "text": [
      "[TEST]  Loss : 0.0019444364588707685, Accuracy : 0.9981540930979134\n"
     ]
    }
   ],
   "source": [
    "### 테스트\n",
    "print('[TEST]', end='  ')\n",
    "test_loss, test_acc = evaluate(MODEL, testDL, CRITERION)"
   ]
  },
  {
   "cell_type": "code",
   "execution_count": 66,
   "metadata": {},
   "outputs": [],
   "source": [
    "def predict(model, text, text_pipeline):\n",
    "    # 평가 모드\n",
    "    model.eval()\n",
    "    answer_list = ['영어', '프랑스어', '독일어', '이탈리아어', '스페인어', '라틴어']\n",
    "\n",
    "    with torch.no_grad():\n",
    "        # 단어 인코딩 -> 텐서화\n",
    "        text = torch.tensor(text_pipeline(text), dtype=torch.int64).to(device)\n",
    "        offsets = torch.tensor([0]).to(device)\n",
    "        pred = model(text, offsets)\n",
    "        predicted_label = answer_list[pred.argmax(1).item()]\n",
    "        print(f'입력한 문장은 [ {predicted_label} ] 입니다.')"
   ]
  },
  {
   "cell_type": "code",
   "execution_count": 62,
   "metadata": {},
   "outputs": [
    {
     "name": "stdout",
     "output_type": "stream",
     "text": [
      "입력한 문장은 [ 독일어 ] 입니다.\n"
     ]
    }
   ],
   "source": [
    "input_text = \"Der Herr hat mich mit dem Heiligen Geist erfüllt und mich gesandt, \\\n",
    "                den Armen die frohe Botschaft zu bringen.\"\n",
    "predict(MODEL, input_text, text_pipeline)"
   ]
  },
  {
   "cell_type": "code",
   "execution_count": 67,
   "metadata": {},
   "outputs": [
    {
     "name": "stdout",
     "output_type": "stream",
     "text": [
      "입력한 문장은 [ 라틴어 ] 입니다.\n"
     ]
    }
   ],
   "source": [
    "input_text = \"Dominus replevit me Spiritu Sancto et misit me evangelizare pauperibus misit me.\"\n",
    "predict(MODEL, input_text, text_pipeline)"
   ]
  },
  {
   "cell_type": "code",
   "execution_count": 75,
   "metadata": {},
   "outputs": [
    {
     "name": "stdout",
     "output_type": "stream",
     "text": [
      "입력한 문장은 [ 프랑스어 ] 입니다.\n"
     ]
    }
   ],
   "source": [
    "input_text = \"Buonasera\"\n",
    "predict(MODEL, input_text, text_pipeline)"
   ]
  },
  {
   "cell_type": "code",
   "execution_count": 78,
   "metadata": {},
   "outputs": [
    {
     "name": "stdout",
     "output_type": "stream",
     "text": [
      "입력한 문장은 [ 이탈리아어 ] 입니다.\n"
     ]
    }
   ],
   "source": [
    "input_text = \"I am a boy.\"\n",
    "predict(MODEL, input_text, text_pipeline)"
   ]
  },
  {
   "cell_type": "code",
   "execution_count": 112,
   "metadata": {},
   "outputs": [],
   "source": [
    "# 모델 저장\n",
    "torch.save(MODEL, './model/latin_epoch10_model.pth')"
   ]
  },
  {
   "cell_type": "code",
   "execution_count": 142,
   "metadata": {},
   "outputs": [
    {
     "data": {
      "text/plain": [
       "[0, 3, 6, 9]"
      ]
     },
     "execution_count": 142,
     "metadata": {},
     "output_type": "execute_result"
    }
   ],
   "source": [
    "list(range(0, len(train_loss)+1, 3))"
   ]
  },
  {
   "cell_type": "code",
   "execution_count": 146,
   "metadata": {},
   "outputs": [
    {
     "data": {
      "image/png": "[encoded data removed]",
      "text/plain": [
       "<Figure size 640x480 with 1 Axes>"
      ]
     },
     "metadata": {},
     "output_type": "display_data"
    }
   ],
   "source": [
    "import matplotlib.pyplot as plt\n",
    "\n",
    "plt.plot(train_loss, label='train_loss')\n",
    "plt.plot(valid_loss, label='valid_loss')\n",
    "plt.xticks(list(range(0, len(train_loss))), list(range(1, len(train_loss)+1)))\n",
    "plt.title('Loss')\n",
    "plt.xlabel('Epoch')\n",
    "plt.legend()\n",
    "plt.show()"
   ]
  },
  {
   "cell_type": "code",
   "execution_count": 147,
   "metadata": {},
   "outputs": [
    {
     "data": {
      "image/png": "[encoded data removed]",
      "text/plain": [
       "<Figure size 640x480 with 1 Axes>"
      ]
     },
     "metadata": {},
     "output_type": "display_data"
    }
   ],
   "source": [
    "plt.plot(train_acc, label='train_accuracy')\n",
    "plt.plot(valid_acc, label='valid_accuracy')\n",
    "plt.axhline(y=1, color='red', linestyle='--')   # axis horizontal line\n",
    "plt.xticks(list(range(0, len(train_loss))), list(range(1, len(train_loss)+1)))\n",
    "plt.title('Accuracy')\n",
    "plt.xlabel('Epoch')\n",
    "plt.legend()\n",
    "plt.show()"
   ]
  },
  {
   "cell_type": "code",
   "execution_count": null,
   "metadata": {},
   "outputs": [],
   "source": []
  }
 ],
 "metadata": {
  "kernelspec": {
   "display_name": "Text_017_220_38",
   "language": "python",
   "name": "python3"
  },
  "language_info": {
   "codemirror_mode": {
    "name": "ipython",
    "version": 3
   },
   "file_extension": ".py",
   "mimetype": "text/x-python",
   "name": "python",
   "nbconvert_exporter": "python",
   "pygments_lexer": "ipython3",
   "version": "3.8.19"
  }
 },
 "nbformat": 4,
 "nbformat_minor": 2
}
