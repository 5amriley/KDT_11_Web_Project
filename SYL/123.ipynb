{
 "cells": [
  {
   "cell_type": "code",
   "execution_count": 1,
   "metadata": {},
   "outputs": [],
   "source": [
    "import pandas as pd"
   ]
  },
  {
   "cell_type": "code",
   "execution_count": 2,
   "metadata": {},
   "outputs": [],
   "source": [
    "file = '../DAY-04/chiniese_news.csv'"
   ]
  },
  {
   "cell_type": "code",
   "execution_count": 3,
   "metadata": {},
   "outputs": [
    {
     "data": {
      "text/html": [
       "<div>\n",
       "<style scoped>\n",
       "    .dataframe tbody tr th:only-of-type {\n",
       "        vertical-align: middle;\n",
       "    }\n",
       "\n",
       "    .dataframe tbody tr th {\n",
       "        vertical-align: top;\n",
       "    }\n",
       "\n",
       "    .dataframe thead th {\n",
       "        text-align: right;\n",
       "    }\n",
       "</style>\n",
       "<table border=\"1\" class=\"dataframe\">\n",
       "  <thead>\n",
       "    <tr style=\"text-align: right;\">\n",
       "      <th></th>\n",
       "      <th>date</th>\n",
       "      <th>tag</th>\n",
       "      <th>headline</th>\n",
       "      <th>content</th>\n",
       "      <th>Unnamed: 4</th>\n",
       "    </tr>\n",
       "  </thead>\n",
       "  <tbody>\n",
       "    <tr>\n",
       "      <th>0</th>\n",
       "      <td>2016-01-01</td>\n",
       "      <td>瑥?퍏?ⓩ뻼</td>\n",
       "      <td>?녶넏窯녶??뷸엫?ョ??쎿닔?ζ뵱?닻깿?잍닇塋뗥ㄷ鴉싧쑉雅т맘烏?阿좄퓩亮녑릲訝?쎖雅뷸...</td>\n",
       "      <td>訝?쎖雅뷸컩鰲ｆ붂?쏃솁?쏃쥍野쇗쑛?꾠곦릎?썰볶麗묋㎗?얍넏?ョ??쎼곦릎?썰볶麗묋㎗...</td>\n",
       "      <td>NaN</td>\n",
       "    </tr>\n",
       "    <tr>\n",
       "      <th>1</th>\n",
       "      <td>2016-01-01</td>\n",
       "      <td>瑥?퍏?ⓩ뻼</td>\n",
       "      <td>訝?ㄾ?쎾쭟?겼룕?듿뀽雅롦런?뽩쎖?꿨뭽?쏃삜?백씓?꾣꼷鰲곥?\"瀯뤶릎鸚?넏冶붶말躍?...</td>\n",
       "      <td>NaN</td>\n",
       "      <td>NaN</td>\n",
       "    </tr>\n",
       "    <tr>\n",
       "      <th>2</th>\n",
       "      <td>2016-01-01</td>\n",
       "      <td>瑥?퍏?ⓩ뻼</td>\n",
       "      <td>?듾튌瓦묈뭄?념틢訝ζ삇?싩쉪瀛ゅ풃?뚩쭊?⑵?瓦경몮煐뽧뗥눣?덂룕烏?\"?긴릎?긴릎鸚?...</td>\n",
       "      <td>NaN</td>\n",
       "      <td>NaN</td>\n",
       "    </tr>\n",
       "    <tr>\n",
       "      <th>3</th>\n",
       "      <td>2016-01-01</td>\n",
       "      <td>瑥?퍏?ⓩ뻼</td>\n",
       "      <td>餓ε츩?낁죱?ⓨ릲?싦릎鸚?쐦慂??묌쳵?뉐뇛?ゅ뒟</td>\n",
       "      <td>亮욕ㄷ?싧몮亮꿴깿閭ｅ쑉燁?엨耶╊튌阿좄퓩亮녔삡묘溫겼쑉訝?ㄾ?욘꼇掠訝볣쥦麗묇말?잍뉵...</td>\n",
       "      <td>NaN</td>\n",
       "    </tr>\n",
       "    <tr>\n",
       "      <th>4</th>\n",
       "      <td>2016-01-01</td>\n",
       "      <td>瑥?퍏?ⓩ뻼</td>\n",
       "      <td>?먨뭅瀯덄돶葉욍묈뀽??퉳亮??백씓?븃퓵曆길객??\"?싧닖瓦뉐렮??015亮댐펽??뀲?...</td>\n",
       "      <td>NaN</td>\n",
       "      <td>NaN</td>\n",
       "    </tr>\n",
       "  </tbody>\n",
       "</table>\n",
       "</div>"
      ],
      "text/plain": [
       "         date     tag                                           headline  \\\n",
       "0  2016-01-01  瑥?퍏?ⓩ뻼  ?녶넏窯녶??뷸엫?ョ??쎿닔?ζ뵱?닻깿?잍닇塋뗥ㄷ鴉싧쑉雅т맘烏?阿좄퓩亮녑릲訝?쎖雅뷸...   \n",
       "1  2016-01-01  瑥?퍏?ⓩ뻼  訝?ㄾ?쎾쭟?겼룕?듿뀽雅롦런?뽩쎖?꿨뭽?쏃삜?백씓?꾣꼷鰲곥?\"瀯뤶릎鸚?넏冶붶말躍?...   \n",
       "2  2016-01-01  瑥?퍏?ⓩ뻼  ?듾튌瓦묈뭄?념틢訝ζ삇?싩쉪瀛ゅ풃?뚩쭊?⑵?瓦경몮煐뽧뗥눣?덂룕烏?\"?긴릎?긴릎鸚?...   \n",
       "3  2016-01-01  瑥?퍏?ⓩ뻼                         餓ε츩?낁죱?ⓨ릲?싦릎鸚?쐦慂??묌쳵?뉐뇛?ゅ뒟   \n",
       "4  2016-01-01  瑥?퍏?ⓩ뻼  ?먨뭅瀯덄돶葉욍묈뀽??퉳亮??백씓?븃퓵曆길객??\"?싧닖瓦뉐렮??015亮댐펽??뀲?...   \n",
       "\n",
       "                                             content Unnamed: 4  \n",
       "0  訝?쎖雅뷸컩鰲ｆ붂?쏃솁?쏃쥍野쇗쑛?꾠곦릎?썰볶麗묋㎗?얍넏?ョ??쎼곦릎?썰볶麗묋㎗...        NaN  \n",
       "1                                                NaN        NaN  \n",
       "2                                                NaN        NaN  \n",
       "3  亮욕ㄷ?싧몮亮꿴깿閭ｅ쑉燁?엨耶╊튌阿좄퓩亮녔삡묘溫겼쑉訝?ㄾ?욘꼇掠訝볣쥦麗묇말?잍뉵...        NaN  \n",
       "4                                                NaN        NaN  "
      ]
     },
     "execution_count": 3,
     "metadata": {},
     "output_type": "execute_result"
    }
   ],
   "source": [
    "cDF = pd.read_csv(file)\n",
    "cDF.head()"
   ]
  },
  {
   "cell_type": "code",
   "execution_count": null,
   "metadata": {},
   "outputs": [],
   "source": []
  }
 ],
 "metadata": {
  "kernelspec": {
   "display_name": "TEXT_NLP38",
   "language": "python",
   "name": "python3"
  },
  "language_info": {
   "codemirror_mode": {
    "name": "ipython",
    "version": 3
   },
   "file_extension": ".py",
   "mimetype": "text/x-python",
   "name": "python",
   "nbconvert_exporter": "python",
   "pygments_lexer": "ipython3",
   "version": "3.8.19"
  }
 },
 "nbformat": 4,
 "nbformat_minor": 2
}
