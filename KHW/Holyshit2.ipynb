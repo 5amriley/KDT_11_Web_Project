{
 "cells": [
  {
   "cell_type": "code",
   "execution_count": 2,
   "metadata": {
    "ExecuteTime": {
     "end_time": "2024-04-14T22:12:01.832329500Z",
     "start_time": "2024-04-14T22:11:55.854987100Z"
    }
   },
   "outputs": [],
   "source": [
    "import pandas as pd\n",
    "import random\n",
    "import os\n",
    "import matplotlib.pyplot as plt\n",
    "import string\n",
    "import numpy as np\n",
    "from PIL import Image\n",
    "from torchvision.transforms import v2\n",
    "from torchvision import transforms\n",
    "import torch\n",
    "import torch.nn as nn\n",
    "from torch.utils.data import Dataset, DataLoader, random_split\n",
    "import CustomClass\n",
    "from func_file import train_model, test_model, collate_fn"
   ]
  },
  {
   "cell_type": "markdown",
   "metadata": {},
   "source": [
    "데이터 출처<hr>\n",
    "- https://www.kaggle.com/datasets/backalla/words-mnist\n",
    "- https://tc11.cvc.uab.es/datasets/\n",
    "- https://www.kaggle.com/datasets/hnthnt/jp-font-image-dataset-02?select=00000083.jpg\n",
    "- https://www.kaggle.com/datasets/ngkinwang/iam-dataset\n",
    "- https://www.kaggle.com/datasets/ravi02516/20-ocr-dataset\n",
    "- https://www.kaggle.com/datasets/frlemarchand/synthetic-kmnist-pages?select=synthetic_kmnist_pages.csv"
   ]
  },
  {
   "cell_type": "code",
   "execution_count": 3,
   "metadata": {
    "ExecuteTime": {
     "end_time": "2024-04-14T22:12:01.845333800Z",
     "start_time": "2024-04-14T22:12:01.826327900Z"
    },
    "collapsed": false
   },
   "outputs": [],
   "source": [
    "random.seed(56)"
   ]
  },
  {
   "cell_type": "code",
   "execution_count": 4,
   "metadata": {
    "ExecuteTime": {
     "end_time": "2024-04-14T22:12:01.863336Z",
     "start_time": "2024-04-14T22:12:01.841332800Z"
    }
   },
   "outputs": [],
   "source": [
    "train_data_path = './data/archive (3)/new_test/new_train'\n",
    "test_data_path = './data/archive (3)/new_test/new_test'"
   ]
  },
  {
   "cell_type": "code",
   "execution_count": 5,
   "metadata": {
    "ExecuteTime": {
     "end_time": "2024-04-14T22:12:01.878339400Z",
     "start_time": "2024-04-14T22:12:01.858334700Z"
    }
   },
   "outputs": [],
   "source": [
    "transformer = v2.Compose(transforms=\n",
    "                                 [transforms.ToTensor(),\n",
    "                                  v2.Resize(size=[64,128])\n",
    "                                  ])"
   ]
  },
  {
   "cell_type": "code",
   "execution_count": 6,
   "metadata": {
    "ExecuteTime": {
     "end_time": "2024-04-14T22:12:02.684520500Z",
     "start_time": "2024-04-14T22:12:01.874339800Z"
    }
   },
   "outputs": [],
   "source": [
    "train_name_list = random.sample(os.listdir(train_data_path), 15000)\n",
    "test_name_list = os.listdir(test_data_path)"
   ]
  },
  {
   "cell_type": "code",
   "execution_count": 7,
   "metadata": {
    "ExecuteTime": {
     "end_time": "2024-04-14T22:12:02.703526700Z",
     "start_time": "2024-04-14T22:12:02.684520500Z"
    }
   },
   "outputs": [],
   "source": [
    "train_img_list = []\n",
    "test_img_list = []\n",
    "train_label = []\n",
    "test_label = []"
   ]
  },
  {
   "cell_type": "code",
   "execution_count": 8,
   "metadata": {
    "ExecuteTime": {
     "end_time": "2024-04-14T22:12:26.732917600Z",
     "start_time": "2024-04-14T22:12:02.701525700Z"
    }
   },
   "outputs": [],
   "source": [
    "for img_name in train_name_list:\n",
    "    img = Image.open(train_data_path+'/'+img_name)\n",
    "    train_img_list.append(transformer(img).numpy())\n",
    "    train_label.append(img_name.split('.jpg')[0])\n",
    "    img.close()\n",
    "\n",
    "for img_name in test_name_list:\n",
    "    img = Image.open(test_data_path+'/'+img_name)\n",
    "    test_img_list.append(transformer(img).numpy())\n",
    "    test_label.append(img_name.split('.jpg')[0])\n",
    "    img.close()"
   ]
  },
  {
   "cell_type": "code",
   "execution_count": 9,
   "metadata": {
    "ExecuteTime": {
     "end_time": "2024-04-14T22:12:26.746922500Z",
     "start_time": "2024-04-14T22:12:26.734919200Z"
    }
   },
   "outputs": [],
   "source": [
    "# train_img_list[0]"
   ]
  },
  {
   "cell_type": "code",
   "execution_count": 10,
   "metadata": {
    "ExecuteTime": {
     "end_time": "2024-04-14T22:13:16.416071500Z",
     "start_time": "2024-04-14T22:12:26.748921600Z"
    }
   },
   "outputs": [
    {
     "name": "stderr",
     "output_type": "stream",
     "text": [
      "C:\\Users\\낙지들의왕\\AppData\\Local\\Temp\\ipykernel_21032\\3395511533.py:1: UserWarning: Creating a tensor from a list of numpy.ndarrays is extremely slow. Please consider converting the list to a single numpy.ndarray with numpy.array() before converting to a tensor. (Triggered internally at C:\\cb\\pytorch_1000000000000\\work\\torch\\csrc\\utils\\tensor_new.cpp:278.)\n",
      "  trainTS = torch.tensor(train_img_list)\n"
     ]
    }
   ],
   "source": [
    "trainTS = torch.tensor(train_img_list)\n",
    "testTS = torch.tensor(test_img_list)"
   ]
  },
  {
   "cell_type": "code",
   "execution_count": 11,
   "metadata": {
    "ExecuteTime": {
     "end_time": "2024-04-14T22:13:16.508092Z",
     "start_time": "2024-04-14T22:13:16.447078300Z"
    }
   },
   "outputs": [
    {
     "data": {
      "text/plain": [
       "(torch.Size([15000, 3, 64, 128]), torch.Size([1472, 3, 64, 128]))"
      ]
     },
     "execution_count": 11,
     "metadata": {},
     "output_type": "execute_result"
    }
   ],
   "source": [
    "trainTS.shape, testTS.shape"
   ]
  },
  {
   "cell_type": "code",
   "execution_count": 12,
   "metadata": {
    "ExecuteTime": {
     "end_time": "2024-04-14T22:13:16.620117500Z",
     "start_time": "2024-04-14T22:13:16.539099Z"
    }
   },
   "outputs": [
    {
     "data": {
      "image/jpeg": "[encoded data removed]",
      "image/png": "[encoded data removed]",
      "text/plain": [
       "<PIL.Image.Image image mode=RGB size=128x64>"
      ]
     },
     "execution_count": 12,
     "metadata": {},
     "output_type": "execute_result"
    }
   ],
   "source": [
    "tf = transforms.ToPILImage()\n",
    "sample = tf(trainTS[12])\n",
    "sample"
   ]
  },
  {
   "cell_type": "code",
   "execution_count": 13,
   "metadata": {
    "ExecuteTime": {
     "end_time": "2024-04-14T22:13:16.657125400Z",
     "start_time": "2024-04-14T22:13:16.624118100Z"
    }
   },
   "outputs": [],
   "source": [
    "eng_only_vocab = CustomClass.Vocab()\n",
    "eng_only_vocab.resetCode()"
   ]
  },
  {
   "cell_type": "code",
   "execution_count": 14,
   "metadata": {
    "ExecuteTime": {
     "end_time": "2024-04-14T22:13:16.682131200Z",
     "start_time": "2024-04-14T22:13:16.658125700Z"
    }
   },
   "outputs": [],
   "source": [
    "trainDS = CustomClass.CustomDataset(trainTS, np.array(train_label), eng_only_vocab)\n",
    "testDS1 = CustomClass.CustomDataset(testTS, np.array(test_label), eng_only_vocab)"
   ]
  },
  {
   "cell_type": "code",
   "execution_count": 15,
   "metadata": {
    "ExecuteTime": {
     "end_time": "2024-04-14T22:13:16.712138Z",
     "start_time": "2024-04-14T22:13:16.699135700Z"
    }
   },
   "outputs": [
    {
     "data": {
      "text/plain": [
       "(array([15, 55, 41, 58, 62, 39]), '.vhyCf', 6, 15)"
      ]
     },
     "execution_count": 15,
     "metadata": {},
     "output_type": "execute_result"
    }
   ],
   "source": [
    "check_id = 1200\n",
    "trainDS[check_id][1], train_label[check_id], len(trainDS[check_id][1]), len(test_label[check_id])"
   ]
  },
  {
   "cell_type": "code",
   "execution_count": 16,
   "metadata": {
    "ExecuteTime": {
     "end_time": "2024-04-14T22:13:16.760148700Z",
     "start_time": "2024-04-14T22:13:16.716138900Z"
    }
   },
   "outputs": [],
   "source": [
    "torch.random.manual_seed(100)\n",
    "gen = torch.Generator().manual_seed(100)"
   ]
  },
  {
   "cell_type": "code",
   "execution_count": 17,
   "metadata": {
    "ExecuteTime": {
     "end_time": "2024-04-14T22:13:16.791156Z",
     "start_time": "2024-04-14T22:13:16.762149400Z"
    }
   },
   "outputs": [],
   "source": [
    "trainDS1, validDS1 = random_split(trainDS, [0.9, 0.1], generator=gen)"
   ]
  },
  {
   "cell_type": "code",
   "execution_count": 18,
   "metadata": {
    "ExecuteTime": {
     "end_time": "2024-04-14T22:13:19.523770400Z",
     "start_time": "2024-04-14T22:13:16.793156100Z"
    }
   },
   "outputs": [
    {
     "data": {
      "text/plain": [
       "True"
      ]
     },
     "execution_count": 18,
     "metadata": {},
     "output_type": "execute_result"
    }
   ],
   "source": [
    "torch.cuda.is_available()"
   ]
  },
  {
   "cell_type": "code",
   "execution_count": 19,
   "metadata": {
    "ExecuteTime": {
     "end_time": "2024-04-14T22:13:19.844841300Z",
     "start_time": "2024-04-14T22:13:19.529770500Z"
    }
   },
   "outputs": [],
   "source": [
    "# for d in trainDS1:\n",
    "#     print(d[1].shape)"
   ]
  },
  {
   "cell_type": "code",
   "execution_count": 20,
   "metadata": {
    "ExecuteTime": {
     "end_time": "2024-04-14T22:13:19.846841500Z",
     "start_time": "2024-04-14T22:13:19.844841300Z"
    }
   },
   "outputs": [],
   "source": [
    "# trainDS1[0], trainDS1[0][0].shape, trainDS1[0][1].shape"
   ]
  },
  {
   "cell_type": "code",
   "execution_count": 21,
   "metadata": {
    "ExecuteTime": {
     "end_time": "2024-04-14T22:13:19.860844900Z",
     "start_time": "2024-04-14T22:13:19.848841800Z"
    }
   },
   "outputs": [],
   "source": [
    "BATCH_SIZE = 100\n",
    "trainDL1 = DataLoader(trainDS1, batch_size=BATCH_SIZE, shuffle=True, collate_fn=collate_fn)\n",
    "validDL1 = DataLoader(validDS1, batch_size=BATCH_SIZE, shuffle=True, collate_fn=collate_fn)\n",
    "testDL1 = DataLoader(testDS1, batch_size=BATCH_SIZE, shuffle=True, collate_fn=collate_fn, drop_last=True)"
   ]
  },
  {
   "cell_type": "code",
   "execution_count": 21,
   "metadata": {
    "ExecuteTime": {
     "end_time": "2024-04-14T22:13:19.879848800Z",
     "start_time": "2024-04-14T22:13:19.862844800Z"
    }
   },
   "outputs": [],
   "source": [
    "# len(trainDL1)"
   ]
  },
  {
   "cell_type": "code",
   "execution_count": 22,
   "metadata": {
    "ExecuteTime": {
     "end_time": "2024-04-14T22:13:19.892852100Z",
     "start_time": "2024-04-14T22:13:19.878848500Z"
    }
   },
   "outputs": [],
   "source": [
    "# for f, t in trainDL1:\n",
    "#     print(f.shape, t.shape)\n",
    "#     print(f.dtype, t.dtype)\n",
    "#     print(f)\n",
    "#     print(t)\n",
    "#     break"
   ]
  },
  {
   "cell_type": "code",
   "execution_count": 22,
   "metadata": {
    "ExecuteTime": {
     "end_time": "2024-04-14T22:13:37.135722500Z",
     "start_time": "2024-04-14T22:13:19.895851900Z"
    }
   },
   "outputs": [],
   "source": [
    "device = 'cuda' if torch.cuda.is_available() else 'cpu'\n",
    "model = CustomClass.CustomModel(3, len(eng_only_vocab)).to(device)\n",
    "optim = torch.optim.Adam(model.parameters())\n",
    "schd = torch.optim.lr_scheduler.ReduceLROnPlateau(optim)"
   ]
  },
  {
   "cell_type": "code",
   "execution_count": 24,
   "metadata": {
    "ExecuteTime": {
     "end_time": "2024-04-14T22:13:37.289757100Z",
     "start_time": "2024-04-14T22:13:37.052703600Z"
    }
   },
   "outputs": [
    {
     "data": {
      "text/plain": [
       "CustomModel(\n",
       "  (CNN): Sequential(\n",
       "    (0): Conv2d(3, 64, kernel_size=(3, 3), stride=(1, 1), padding=same)\n",
       "    (1): BatchNorm2d(64, eps=1e-05, momentum=0.1, affine=True, track_running_stats=True)\n",
       "    (2): ReLU()\n",
       "    (3): MaxPool2d(kernel_size=(2, 2), stride=(2, 2), padding=0, dilation=1, ceil_mode=False)\n",
       "    (4): Conv2d(64, 128, kernel_size=(3, 3), stride=(1, 1), padding=same)\n",
       "    (5): BatchNorm2d(128, eps=1e-05, momentum=0.1, affine=True, track_running_stats=True)\n",
       "    (6): ReLU()\n",
       "    (7): Conv2d(128, 128, kernel_size=(3, 3), stride=(1, 1), padding=same)\n",
       "    (8): BatchNorm2d(128, eps=1e-05, momentum=0.1, affine=True, track_running_stats=True)\n",
       "    (9): ReLU()\n",
       "    (10): Conv2d(128, 256, kernel_size=(3, 3), stride=(1, 1), padding=same)\n",
       "    (11): BatchNorm2d(256, eps=1e-05, momentum=0.1, affine=True, track_running_stats=True)\n",
       "    (12): ReLU()\n",
       "    (13): MaxPool2d(kernel_size=(2, 2), stride=(2, 2), padding=0, dilation=1, ceil_mode=False)\n",
       "    (14): Conv2d(256, 256, kernel_size=(3, 3), stride=(1, 1), padding=same)\n",
       "    (15): BatchNorm2d(256, eps=1e-05, momentum=0.1, affine=True, track_running_stats=True)\n",
       "    (16): ReLU()\n",
       "  )\n",
       "  (gru): GRU(64, 64, num_layers=3, batch_first=True)\n",
       "  (fc1): Linear(in_features=4096, out_features=64, bias=True)\n",
       "  (fc2): Linear(in_features=64, out_features=64, bias=True)\n",
       "  (fc3): Linear(in_features=64, out_features=96, bias=True)\n",
       ")"
      ]
     },
     "execution_count": 24,
     "metadata": {},
     "output_type": "execute_result"
    }
   ],
   "source": [
    "model"
   ]
  },
  {
   "cell_type": "code",
   "execution_count": 25,
   "metadata": {
    "ExecuteTime": {
     "end_time": "2024-04-14T23:26:48.985937300Z",
     "start_time": "2024-04-14T22:13:37.234744900Z"
    }
   },
   "outputs": [
    {
     "name": "stdout",
     "output_type": "stream",
     "text": [
      "Proceeding.......\n",
      "Epoch [    1 /   100] ------\n",
      "train cost = 2.201967239379883, valid cost = 2.8946197032928467\n",
      "Proceeding.......\n",
      "Epoch [    2 /   100] ------\n",
      "train cost = 2.3458361625671387, valid cost = 2.930649995803833\n",
      "Proceeding.......\n",
      "Epoch [    3 /   100] ------\n",
      "train cost = 2.3774499893188477, valid cost = 3.291215181350708\n",
      "Proceeding.......\n",
      "Epoch [    4 /   100] ------\n",
      "train cost = 2.148334503173828, valid cost = 3.4341955184936523\n",
      "Proceeding.......\n",
      "Epoch [    5 /   100] ------\n",
      "train cost = 2.173970937728882, valid cost = 3.566409111022949\n",
      "Proceeding.......\n",
      "Epoch [    6 /   100] ------\n",
      "train cost = 2.1361818313598633, valid cost = 3.4190711975097656\n",
      "Proceeding.......\n",
      "Epoch [    7 /   100] ------\n",
      "train cost = 2.1727001667022705, valid cost = 3.3331267833709717\n",
      "Proceeding.......\n",
      "Epoch [    8 /   100] ------\n",
      "train cost = 2.282094717025757, valid cost = 3.1073009967803955\n",
      "Proceeding.......\n",
      "Epoch [    9 /   100] ------\n",
      "train cost = 2.261525869369507, valid cost = 3.512648344039917\n",
      "Proceeding.......\n",
      "Epoch [   10 /   100] ------\n",
      "train cost = 2.1256539821624756, valid cost = 3.6084747314453125\n",
      "Proceeding.......\n",
      "Epoch [   11 /   100] ------\n",
      "train cost = 2.0928521156311035, valid cost = 3.8095507621765137\n",
      "Proceeding.......\n",
      "Epoch [   12 /   100] ------\n",
      "train cost = 2.0234768390655518, valid cost = 3.6934878826141357\n",
      "Proceeding.......\n",
      "Epoch [   13 /   100] ------\n",
      "train cost = 1.9298110008239746, valid cost = 3.7628045082092285\n",
      "Proceeding.......\n",
      "Epoch [   14 /   100] ------\n",
      "train cost = 1.7909941673278809, valid cost = 4.150381565093994\n",
      "Proceeding.......\n",
      "Epoch [   15 /   100] ------\n",
      "train cost = 1.9612631797790527, valid cost = 3.8662261962890625\n",
      "Proceeding.......\n",
      "Epoch [   16 /   100] ------\n",
      "train cost = 1.7198494672775269, valid cost = 4.332083225250244\n",
      "Proceeding.......\n",
      "Epoch [   17 /   100] ------\n",
      "train cost = 1.9117130041122437, valid cost = 4.152186870574951\n",
      "Proceeding.......\n",
      "Epoch [   18 /   100] ------\n",
      "train cost = 1.741059422492981, valid cost = 4.290040493011475\n",
      "Proceeding.......\n",
      "Epoch [   19 /   100] ------\n",
      "train cost = 1.9332729578018188, valid cost = 4.338160991668701\n",
      "Proceeding.......\n",
      "Epoch [   20 /   100] ------\n",
      "train cost = 1.8629283905029297, valid cost = 4.569515228271484\n",
      "Proceeding.......\n",
      "Epoch [   21 /   100] ------\n",
      "train cost = 1.9389095306396484, valid cost = 4.38446569442749\n",
      "Proceeding.......\n",
      "Epoch [   22 /   100] ------\n",
      "train cost = 1.8048166036605835, valid cost = 4.292500972747803\n",
      "Proceeding.......\n",
      "Epoch [   23 /   100] ------\n",
      "train cost = 1.791353702545166, valid cost = 4.171927452087402\n",
      "Proceeding.......\n",
      "Epoch [   24 /   100] ------\n",
      "train cost = 1.7333462238311768, valid cost = 4.415645122528076\n",
      "Proceeding.......\n",
      "Epoch [   25 /   100] ------\n",
      "train cost = 1.760071039199829, valid cost = 4.447917461395264\n",
      "Proceeding.......\n",
      "Epoch [   26 /   100] ------\n",
      "train cost = 1.718493938446045, valid cost = 4.876506328582764\n",
      "Proceeding.......\n",
      "Epoch [   27 /   100] ------\n",
      "train cost = 1.7525897026062012, valid cost = 4.425336837768555\n",
      "Proceeding.......\n",
      "Epoch [   28 /   100] ------\n",
      "train cost = 1.8759692907333374, valid cost = 4.766990661621094\n",
      "Proceeding.......\n",
      "Epoch [   29 /   100] ------\n",
      "train cost = 1.7208503484725952, valid cost = 4.477538585662842\n",
      "Proceeding.......\n",
      "Epoch [   30 /   100] ------\n",
      "train cost = 1.7029402256011963, valid cost = 4.5840582847595215\n",
      "Proceeding.......\n",
      "Epoch [   31 /   100] ------\n",
      "train cost = 1.850669026374817, valid cost = 4.752064228057861\n",
      "Proceeding.......\n",
      "Epoch [   32 /   100] ------\n",
      "train cost = 1.627321481704712, valid cost = 4.715879917144775\n",
      "Proceeding.......\n",
      "Epoch [   33 /   100] ------\n",
      "train cost = 1.684609293937683, valid cost = 5.058437824249268\n",
      "Proceeding.......\n",
      "Epoch [   34 /   100] ------\n",
      "train cost = 1.7514324188232422, valid cost = 4.876806735992432\n",
      "Proceeding.......\n",
      "Epoch [   35 /   100] ------\n",
      "train cost = 1.7234467267990112, valid cost = 4.6154465675354\n",
      "Proceeding.......\n",
      "Epoch [   36 /   100] ------\n",
      "train cost = 1.7439125776290894, valid cost = 5.004971027374268\n",
      "Proceeding.......\n",
      "Epoch [   37 /   100] ------\n",
      "train cost = 1.8720542192459106, valid cost = 4.202398777008057\n",
      "Proceeding.......\n",
      "Epoch [   38 /   100] ------\n",
      "train cost = 1.7304726839065552, valid cost = 4.83765983581543\n",
      "Proceeding.......\n",
      "Epoch [   39 /   100] ------\n",
      "train cost = 1.635681390762329, valid cost = 4.821545124053955\n",
      "Proceeding.......\n",
      "Epoch [   40 /   100] ------\n",
      "train cost = 1.761030673980713, valid cost = 5.080679416656494\n",
      "Proceeding.......\n",
      "Epoch [   41 /   100] ------\n",
      "train cost = 1.6522489786148071, valid cost = 4.513113021850586\n",
      "Proceeding.......\n",
      "Epoch [   42 /   100] ------\n",
      "train cost = 1.7640029191970825, valid cost = 4.541276931762695\n",
      "Proceeding.......\n",
      "Epoch [   43 /   100] ------\n",
      "train cost = 1.733689785003662, valid cost = 4.5165510177612305\n",
      "Proceeding.......\n",
      "Epoch [   44 /   100] ------\n",
      "train cost = 1.7382292747497559, valid cost = 4.503496170043945\n",
      "Proceeding.......\n",
      "Epoch [   45 /   100] ------\n",
      "train cost = 1.7158690690994263, valid cost = 4.748035907745361\n",
      "Proceeding.......\n",
      "Epoch [   46 /   100] ------\n",
      "train cost = 1.5481809377670288, valid cost = 4.938830375671387\n",
      "Proceeding.......\n",
      "Epoch [   47 /   100] ------\n",
      "train cost = 1.5985420942306519, valid cost = 4.914034843444824\n",
      "Proceeding.......\n",
      "Epoch [   48 /   100] ------\n",
      "train cost = 1.6556992530822754, valid cost = 4.42965030670166\n",
      "Proceeding.......\n",
      "Epoch [   49 /   100] ------\n",
      "train cost = 1.7868221998214722, valid cost = 4.6210126876831055\n",
      "Proceeding.......\n",
      "Epoch [   50 /   100] ------\n",
      "train cost = 1.7395496368408203, valid cost = 4.8177595138549805\n",
      "Proceeding.......\n",
      "Epoch [   51 /   100] ------\n",
      "train cost = 1.9156297445297241, valid cost = 4.791099548339844\n",
      "Proceeding.......\n",
      "Epoch [   52 /   100] ------\n",
      "train cost = 1.6617968082427979, valid cost = 4.707431316375732\n",
      "Proceeding.......\n",
      "Epoch [   53 /   100] ------\n",
      "train cost = 1.6496764421463013, valid cost = 4.590529918670654\n",
      "Proceeding.......\n",
      "Epoch [   54 /   100] ------\n",
      "train cost = 1.7911349534988403, valid cost = 4.586860179901123\n",
      "Proceeding.......\n",
      "Epoch [   55 /   100] ------\n",
      "train cost = 1.6490360498428345, valid cost = 4.81226921081543\n",
      "Proceeding.......\n",
      "Epoch [   56 /   100] ------\n",
      "train cost = 1.7744696140289307, valid cost = 4.67470121383667\n",
      "Proceeding.......\n",
      "Epoch [   57 /   100] ------\n",
      "train cost = 1.5561519861221313, valid cost = 4.897674560546875\n",
      "Proceeding.......\n",
      "Epoch [   58 /   100] ------\n",
      "train cost = 1.6705316305160522, valid cost = 4.711118221282959\n",
      "Proceeding.......\n",
      "Epoch [   59 /   100] ------\n",
      "train cost = 1.7427555322647095, valid cost = 4.4136881828308105\n",
      "Proceeding.......\n",
      "Epoch [   60 /   100] ------\n",
      "train cost = 1.759055256843567, valid cost = 4.586056232452393\n",
      "Proceeding.......\n",
      "Epoch [   61 /   100] ------\n",
      "train cost = 1.6725536584854126, valid cost = 4.642789840698242\n",
      "Proceeding.......\n",
      "Epoch [   62 /   100] ------\n",
      "train cost = 1.7603694200515747, valid cost = 4.648665904998779\n",
      "Proceeding.......\n",
      "Epoch [   63 /   100] ------\n",
      "train cost = 1.6350687742233276, valid cost = 4.4799346923828125\n",
      "Proceeding.......\n",
      "Epoch [   64 /   100] ------\n",
      "train cost = 1.6347815990447998, valid cost = 4.4681220054626465\n",
      "Proceeding.......\n",
      "Epoch [   65 /   100] ------\n",
      "train cost = 1.6800585985183716, valid cost = 4.448375225067139\n",
      "Proceeding.......\n",
      "Epoch [   66 /   100] ------\n",
      "train cost = 1.6717238426208496, valid cost = 4.4015421867370605\n",
      "Proceeding.......\n",
      "Epoch [   67 /   100] ------\n",
      "train cost = 1.8170092105865479, valid cost = 4.595031261444092\n",
      "Proceeding.......\n",
      "Epoch [   68 /   100] ------\n",
      "train cost = 1.7020119428634644, valid cost = 4.248764991760254\n",
      "Proceeding.......\n",
      "Epoch [   69 /   100] ------\n",
      "train cost = 1.7771227359771729, valid cost = 4.5282487869262695\n",
      "Proceeding.......\n",
      "Epoch [   70 /   100] ------\n",
      "train cost = 1.8062081336975098, valid cost = 4.672938346862793\n",
      "Proceeding.......\n",
      "Epoch [   71 /   100] ------\n",
      "train cost = 1.7837945222854614, valid cost = 4.264441967010498\n",
      "Proceeding.......\n",
      "Epoch [   72 /   100] ------\n",
      "train cost = 1.600412368774414, valid cost = 4.753073215484619\n",
      "Proceeding.......\n",
      "Epoch [   73 /   100] ------\n",
      "train cost = 1.778167963027954, valid cost = 4.480367183685303\n",
      "Proceeding.......\n",
      "Epoch [   74 /   100] ------\n",
      "train cost = 1.636541724205017, valid cost = 5.089098930358887\n",
      "Proceeding.......\n",
      "Epoch [   75 /   100] ------\n",
      "train cost = 1.7404226064682007, valid cost = 4.787491321563721\n",
      "Proceeding.......\n",
      "Epoch [   76 /   100] ------\n",
      "train cost = 1.8355827331542969, valid cost = 4.382501125335693\n",
      "Proceeding.......\n",
      "Epoch [   77 /   100] ------\n",
      "train cost = 1.5803892612457275, valid cost = 4.76245641708374\n",
      "Proceeding.......\n",
      "Epoch [   78 /   100] ------\n",
      "train cost = 1.8407121896743774, valid cost = 4.530917644500732\n",
      "Proceeding.......\n",
      "Epoch [   79 /   100] ------\n",
      "train cost = 1.9279760122299194, valid cost = 4.387046813964844\n",
      "Proceeding.......\n",
      "Epoch [   80 /   100] ------\n",
      "train cost = 1.6948895454406738, valid cost = 4.214298725128174\n",
      "Proceeding.......\n",
      "Epoch [   81 /   100] ------\n",
      "train cost = 1.6928108930587769, valid cost = 4.643170356750488\n",
      "Proceeding.......\n",
      "Epoch [   82 /   100] ------\n",
      "train cost = 1.6346648931503296, valid cost = 4.456361770629883\n",
      "Proceeding.......\n",
      "Epoch [   83 /   100] ------\n",
      "train cost = 1.7419567108154297, valid cost = 5.060795307159424\n",
      "Proceeding.......\n",
      "Epoch [   84 /   100] ------\n",
      "train cost = 1.654383659362793, valid cost = 4.477038383483887\n",
      "Proceeding.......\n",
      "Epoch [   85 /   100] ------\n",
      "train cost = 1.6711300611495972, valid cost = 4.589309215545654\n",
      "Proceeding.......\n",
      "Epoch [   86 /   100] ------\n",
      "train cost = 1.72573721408844, valid cost = 5.110115051269531\n",
      "Proceeding.......\n",
      "Epoch [   87 /   100] ------\n",
      "train cost = 1.6945565938949585, valid cost = 4.690890312194824\n",
      "Proceeding.......\n",
      "Epoch [   88 /   100] ------\n",
      "train cost = 1.9222670793533325, valid cost = 4.429433345794678\n",
      "Proceeding.......\n",
      "Epoch [   89 /   100] ------\n",
      "train cost = 1.7158184051513672, valid cost = 4.577123165130615\n",
      "Proceeding.......\n",
      "Epoch [   90 /   100] ------\n",
      "train cost = 1.658216953277588, valid cost = 4.710428714752197\n",
      "Proceeding.......\n",
      "Epoch [   91 /   100] ------\n",
      "train cost = 1.6750308275222778, valid cost = 4.615145683288574\n",
      "Proceeding.......\n",
      "Epoch [   92 /   100] ------\n",
      "train cost = 1.5958582162857056, valid cost = 4.965202331542969\n",
      "Proceeding.......\n",
      "Epoch [   93 /   100] ------\n",
      "train cost = 1.7075927257537842, valid cost = 4.533168315887451\n",
      "Proceeding.......\n",
      "Epoch [   94 /   100] ------\n",
      "train cost = 1.808651089668274, valid cost = 4.342772006988525\n",
      "Proceeding.......\n",
      "Epoch [   95 /   100] ------\n",
      "train cost = 1.692768931388855, valid cost = 4.416621208190918\n",
      "Proceeding.......\n",
      "Epoch [   96 /   100] ------\n",
      "train cost = 1.7934995889663696, valid cost = 4.539583206176758\n",
      "Proceeding.......\n",
      "Epoch [   97 /   100] ------\n",
      "train cost = 1.795923113822937, valid cost = 4.474906921386719\n",
      "Proceeding.......\n",
      "Epoch [   98 /   100] ------\n",
      "train cost = 1.7193653583526611, valid cost = 4.738290786743164\n",
      "Proceeding.......\n",
      "Epoch [   99 /   100] ------\n",
      "train cost = 1.7164385318756104, valid cost = 4.470371246337891\n",
      "Proceeding.......\n",
      "Epoch [  100 /   100] ------\n",
      "train cost = 1.771928071975708, valid cost = 4.559117794036865\n",
      "--- Model train completed ---\n"
     ]
    }
   ],
   "source": [
    "result = train_model(model, optim, trainDL1, validDL1, device, epochs=100, schd=schd)"
   ]
  },
  {
   "cell_type": "code",
   "execution_count": 26,
   "metadata": {
    "ExecuteTime": {
     "end_time": "2024-04-14T23:26:49.084959700Z",
     "start_time": "2024-04-14T23:26:49.067955200Z"
    }
   },
   "outputs": [],
   "source": [
    "torch.save(model, './bbbest_model100.pkl')"
   ]
  },
  {
   "cell_type": "code",
   "execution_count": 23,
   "metadata": {
    "ExecuteTime": {
     "end_time": "2024-04-14T23:26:49.179980800Z",
     "start_time": "2024-04-14T23:26:49.088960600Z"
    }
   },
   "outputs": [],
   "source": [
    "testModel1 = torch.load('./bbbest_model100.pkl')\n",
    "# testModel2 = torch.load('./best_model100.pkl')"
   ]
  },
  {
   "cell_type": "code",
   "execution_count": 28,
   "metadata": {
    "ExecuteTime": {
     "end_time": "2024-04-14T23:30:41.999465900Z",
     "start_time": "2024-04-14T23:30:41.384327Z"
    }
   },
   "outputs": [
    {
     "data": {
      "image/png": "[encoded data removed]",
      "text/plain": [
       "<Figure size 640x480 with 1 Axes>"
      ]
     },
     "metadata": {},
     "output_type": "display_data"
    }
   ],
   "source": [
    "train_costs = [res.cpu().item() for res in result[0]]\n",
    "valid_costs = [res.cpu().item() for res in result[1]]\n",
    "\n",
    "plt.plot(train_costs)\n",
    "plt.plot(valid_costs)\n",
    "plt.legend(['train', 'valid'])\n",
    "plt.grid(alpha=0.35)\n",
    "plt.xlabel('Epochs')\n",
    "plt.ylabel('Cost')\n",
    "plt.show()"
   ]
  },
  {
   "cell_type": "code",
   "execution_count": 24,
   "metadata": {
    "ExecuteTime": {
     "end_time": "2024-04-14T23:26:58.901163800Z",
     "start_time": "2024-04-14T23:26:50.029171200Z"
    }
   },
   "outputs": [
    {
     "name": "stdout",
     "output_type": "stream",
     "text": [
      "Proceeding....Trial   0 --- \n",
      "test cost = 1.8979369401931763\n",
      "Trial   1 --- \n",
      "test cost = 1.780903697013855\n",
      "Trial   2 --- \n",
      "test cost = 1.815851092338562\n",
      "Trial   3 --- \n",
      "test cost = 1.6600489616394043\n",
      "Trial   4 --- \n",
      "test cost = 1.881367564201355\n",
      "Trial   5 --- \n",
      "test cost = 1.9053268432617188\n",
      "Trial   6 --- \n",
      "test cost = 1.789797067642212\n",
      "Trial   7 --- \n",
      "test cost = 1.7509846687316895\n",
      "Trial   8 --- \n",
      "test cost = 1.996107578277588\n",
      "Trial   9 --- \n",
      "test cost = 1.8222216367721558\n",
      ".Trial  10 --- \n",
      "test cost = 1.784554123878479\n",
      "Trial  11 --- \n",
      "test cost = 1.7992520332336426\n",
      "Trial  12 --- \n",
      "test cost = 1.7049660682678223\n",
      "Trial  13 --- \n",
      "test cost = 1.6949349641799927\n"
     ]
    }
   ],
   "source": [
    "test_result = test_model(testModel1, testDL1, device)"
   ]
  },
  {
   "cell_type": "code",
   "execution_count": null,
   "metadata": {},
   "outputs": [],
   "source": []
  },
  {
   "cell_type": "code",
   "execution_count": 25,
   "metadata": {
    "ExecuteTime": {
     "start_time": "2024-04-14T23:26:58.903164300Z"
    },
    "collapsed": false
   },
   "outputs": [
    {
     "data": {
      "text/plain": [
       "1.806018088545118"
      ]
     },
     "execution_count": 25,
     "metadata": {},
     "output_type": "execute_result"
    }
   ],
   "source": [
    "sum(test_result) / len(test_result)"
   ]
  },
  {
   "cell_type": "code",
   "execution_count": null,
   "metadata": {
    "ExecuteTime": {
     "start_time": "2024-04-14T23:26:58.906164600Z"
    }
   },
   "outputs": [],
   "source": [
    "# check_id = 2000\n",
    "# \n",
    "# imgTS = torch.FloatTensor(test_img_list[check_id]).unsqueeze(dim=0).to(device)\n",
    "# \n",
    "# testModel1.eval()\n",
    "# \n",
    "# pre1 = testModel1(imgTS)\n",
    "# \n",
    "# print(torch.argmax(pre1, dim=-1)[0])\n",
    "# \n",
    "# for id in torch.argmax(pre1, dim=-1)[0]:\n",
    "#     letter = eng_only_vocab.decoder[id.item()]\n",
    "#     if letter != '<PAD>':\n",
    "#         print(letter, end=', ')\n",
    "#     \n",
    "# print(f'\\n{test_label[check_id]}')\n",
    "# print(tf(trainTS[check_id]).show())"
   ]
  },
  {
   "cell_type": "code",
   "execution_count": null,
   "metadata": {
    "ExecuteTime": {
     "start_time": "2024-04-14T23:26:58.908164500Z"
    },
    "collapsed": false
   },
   "outputs": [],
   "source": []
  }
 ],
 "metadata": {
  "kernelspec": {
   "display_name": "My_38",
   "language": "python",
   "name": "python3"
  },
  "language_info": {
   "codemirror_mode": {
    "name": "ipython",
    "version": 3
   },
   "file_extension": ".py",
   "mimetype": "text/x-python",
   "name": "python",
   "nbconvert_exporter": "python",
   "pygments_lexer": "ipython3",
   "version": "3.8.18"
  }
 },
 "nbformat": 4,
 "nbformat_minor": 2
}
