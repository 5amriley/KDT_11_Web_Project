{
 "cells": [
  {
   "cell_type": "code",
   "execution_count": 1,
   "metadata": {
    "ExecuteTime": {
     "end_time": "2024-04-15T04:10:14.449352900Z",
     "start_time": "2024-04-15T04:10:10.300421Z"
    }
   },
   "outputs": [],
   "source": [
    "import pandas as pd\n",
    "import random\n",
    "import os\n",
    "import matplotlib.pyplot as plt\n",
    "import string\n",
    "import numpy as np\n",
    "from PIL import Image\n",
    "from torchvision.transforms import v2\n",
    "from torchvision import transforms\n",
    "import torch\n",
    "import torch.nn as nn\n",
    "from torch.utils.data import Dataset, DataLoader, random_split\n",
    "import CustomClass\n",
    "from func_file import train_model, test_model, collate_fn"
   ]
  },
  {
   "cell_type": "markdown",
   "metadata": {},
   "source": [
    "데이터 출처<hr>\n",
    "- https://www.kaggle.com/datasets/backalla/words-mnist\n",
    "- https://tc11.cvc.uab.es/datasets/\n",
    "- https://www.kaggle.com/datasets/hnthnt/jp-font-image-dataset-02?select=00000083.jpg\n",
    "- https://www.kaggle.com/datasets/ngkinwang/iam-dataset\n",
    "- https://www.kaggle.com/datasets/ravi02516/20-ocr-dataset\n",
    "- https://www.kaggle.com/datasets/frlemarchand/synthetic-kmnist-pages?select=synthetic_kmnist_pages.csv"
   ]
  },
  {
   "cell_type": "code",
   "execution_count": 2,
   "metadata": {
    "collapsed": false,
    "ExecuteTime": {
     "end_time": "2024-04-15T04:10:14.465355800Z",
     "start_time": "2024-04-15T04:10:14.451351700Z"
    }
   },
   "outputs": [],
   "source": [
    "random.seed(56)"
   ]
  },
  {
   "cell_type": "code",
   "execution_count": 3,
   "metadata": {
    "ExecuteTime": {
     "end_time": "2024-04-15T04:10:14.491360900Z",
     "start_time": "2024-04-15T04:10:14.467356300Z"
    }
   },
   "outputs": [],
   "source": [
    "train_data_path = './data/archive (3)/new_test/new_train'\n",
    "test_data_path = './data/archive (3)/new_test/new_test'"
   ]
  },
  {
   "cell_type": "code",
   "execution_count": 4,
   "metadata": {
    "ExecuteTime": {
     "end_time": "2024-04-15T04:10:14.499363700Z",
     "start_time": "2024-04-15T04:10:14.483360300Z"
    }
   },
   "outputs": [],
   "source": [
    "transformer = v2.Compose(transforms=\n",
    "                                 [transforms.ToTensor(),\n",
    "                                  v2.Resize(size=[64,128])\n",
    "                                  ])"
   ]
  },
  {
   "cell_type": "code",
   "execution_count": 5,
   "metadata": {
    "ExecuteTime": {
     "end_time": "2024-04-15T04:10:16.283763300Z",
     "start_time": "2024-04-15T04:10:14.499363700Z"
    }
   },
   "outputs": [],
   "source": [
    "train_name_list = random.sample(os.listdir(train_data_path), 15000)\n",
    "test_name_list = os.listdir(test_data_path)"
   ]
  },
  {
   "cell_type": "code",
   "execution_count": 6,
   "metadata": {
    "ExecuteTime": {
     "end_time": "2024-04-15T04:10:16.299766900Z",
     "start_time": "2024-04-15T04:10:16.285764600Z"
    }
   },
   "outputs": [],
   "source": [
    "train_img_list = []\n",
    "test_img_list = []\n",
    "train_label = []\n",
    "test_label = []"
   ]
  },
  {
   "cell_type": "code",
   "execution_count": 7,
   "metadata": {
    "ExecuteTime": {
     "end_time": "2024-04-15T04:10:45.523326200Z",
     "start_time": "2024-04-15T04:10:16.301767400Z"
    }
   },
   "outputs": [],
   "source": [
    "for img_name in train_name_list:\n",
    "    img = Image.open(train_data_path+'/'+img_name)\n",
    "    train_img_list.append(transformer(img).numpy())\n",
    "    train_label.append(img_name.split('.jpg')[0])\n",
    "    img.close()\n",
    "\n",
    "for img_name in test_name_list:\n",
    "    img = Image.open(test_data_path+'/'+img_name)\n",
    "    test_img_list.append(transformer(img).numpy())\n",
    "    test_label.append(img_name.split('.jpg')[0])\n",
    "    img.close()"
   ]
  },
  {
   "cell_type": "code",
   "execution_count": 8,
   "metadata": {
    "ExecuteTime": {
     "end_time": "2024-04-15T04:10:45.542330800Z",
     "start_time": "2024-04-15T04:10:45.528328100Z"
    }
   },
   "outputs": [],
   "source": [
    "# train_img_list[0]"
   ]
  },
  {
   "cell_type": "code",
   "execution_count": 9,
   "metadata": {
    "ExecuteTime": {
     "end_time": "2024-04-15T04:11:38.051124300Z",
     "start_time": "2024-04-15T04:10:45.542330800Z"
    }
   },
   "outputs": [
    {
     "name": "stderr",
     "output_type": "stream",
     "text": [
      "C:\\Users\\낙지들의왕\\AppData\\Local\\Temp\\ipykernel_24820\\278347032.py:1: UserWarning: Creating a tensor from a list of numpy.ndarrays is extremely slow. Please consider converting the list to a single numpy.ndarray with numpy.array() before converting to a tensor. (Triggered internally at C:\\cb\\pytorch_1000000000000\\work\\torch\\csrc\\utils\\tensor_new.cpp:278.)\n",
      "  trainTS = torch.tensor(train_img_list)\n"
     ]
    }
   ],
   "source": [
    "trainTS = torch.tensor(train_img_list)\n",
    "testTS = torch.tensor(test_img_list)"
   ]
  },
  {
   "cell_type": "code",
   "execution_count": 10,
   "metadata": {
    "ExecuteTime": {
     "end_time": "2024-04-15T04:11:38.838300100Z",
     "start_time": "2024-04-15T04:11:38.051124300Z"
    }
   },
   "outputs": [
    {
     "data": {
      "text/plain": "(torch.Size([15000, 3, 64, 128]), torch.Size([1472, 3, 64, 128]))"
     },
     "execution_count": 10,
     "metadata": {},
     "output_type": "execute_result"
    }
   ],
   "source": [
    "trainTS.shape, testTS.shape"
   ]
  },
  {
   "cell_type": "code",
   "execution_count": 11,
   "metadata": {
    "ExecuteTime": {
     "end_time": "2024-04-15T04:11:38.875308700Z",
     "start_time": "2024-04-15T04:11:38.163148300Z"
    }
   },
   "outputs": [
    {
     "data": {
      "text/plain": "<PIL.Image.Image image mode=RGB size=128x64>",
      "image/png": "[encoded data removed]",
      "image/jpeg": "[encoded data removed]"
     },
     "execution_count": 11,
     "metadata": {},
     "output_type": "execute_result"
    }
   ],
   "source": [
    "tf = transforms.ToPILImage()\n",
    "sample = tf(trainTS[12])\n",
    "sample"
   ]
  },
  {
   "cell_type": "code",
   "execution_count": 12,
   "metadata": {
    "ExecuteTime": {
     "end_time": "2024-04-15T04:11:38.875308700Z",
     "start_time": "2024-04-15T04:11:38.237165100Z"
    }
   },
   "outputs": [],
   "source": [
    "eng_only_vocab = CustomClass.Vocab()\n",
    "eng_only_vocab.resetCode()"
   ]
  },
  {
   "cell_type": "code",
   "execution_count": 13,
   "metadata": {
    "ExecuteTime": {
     "end_time": "2024-04-15T04:11:38.876307900Z",
     "start_time": "2024-04-15T04:11:38.255169900Z"
    }
   },
   "outputs": [],
   "source": [
    "trainDS = CustomClass.CustomDataset(trainTS, np.array(train_label), eng_only_vocab)\n",
    "testDS1 = CustomClass.CustomDataset(testTS, np.array(test_label), eng_only_vocab)"
   ]
  },
  {
   "cell_type": "code",
   "execution_count": 14,
   "metadata": {
    "ExecuteTime": {
     "end_time": "2024-04-15T04:11:38.877308800Z",
     "start_time": "2024-04-15T04:11:38.285175800Z"
    }
   },
   "outputs": [
    {
     "data": {
      "text/plain": "(array([15, 55, 41, 58, 62, 39]), '.vhyCf', 6, 15)"
     },
     "execution_count": 14,
     "metadata": {},
     "output_type": "execute_result"
    }
   ],
   "source": [
    "check_id = 1200\n",
    "trainDS[check_id][1], train_label[check_id], len(trainDS[check_id][1]), len(test_label[check_id])"
   ]
  },
  {
   "cell_type": "code",
   "execution_count": 15,
   "metadata": {
    "ExecuteTime": {
     "end_time": "2024-04-15T04:11:38.877308800Z",
     "start_time": "2024-04-15T04:11:38.314183400Z"
    }
   },
   "outputs": [],
   "source": [
    "torch.random.manual_seed(100)\n",
    "gen = torch.Generator().manual_seed(100)"
   ]
  },
  {
   "cell_type": "code",
   "execution_count": 16,
   "metadata": {
    "ExecuteTime": {
     "end_time": "2024-04-15T04:11:38.878309200Z",
     "start_time": "2024-04-15T04:11:38.363194300Z"
    }
   },
   "outputs": [],
   "source": [
    "trainDS1, validDS1 = random_split(trainDS, [0.9, 0.1], generator=gen)"
   ]
  },
  {
   "cell_type": "code",
   "execution_count": 17,
   "metadata": {
    "ExecuteTime": {
     "end_time": "2024-04-15T04:11:40.429657300Z",
     "start_time": "2024-04-15T04:11:38.395200100Z"
    }
   },
   "outputs": [
    {
     "data": {
      "text/plain": "True"
     },
     "execution_count": 17,
     "metadata": {},
     "output_type": "execute_result"
    }
   ],
   "source": [
    "torch.cuda.is_available()"
   ]
  },
  {
   "cell_type": "code",
   "execution_count": 18,
   "metadata": {
    "ExecuteTime": {
     "end_time": "2024-04-15T04:11:40.517676200Z",
     "start_time": "2024-04-15T04:11:40.434658600Z"
    }
   },
   "outputs": [],
   "source": [
    "# for d in trainDS1:\n",
    "#     print(d[1].shape)"
   ]
  },
  {
   "cell_type": "code",
   "execution_count": 19,
   "metadata": {
    "ExecuteTime": {
     "end_time": "2024-04-15T04:11:40.519677200Z",
     "start_time": "2024-04-15T04:11:40.439660100Z"
    }
   },
   "outputs": [],
   "source": [
    "# trainDS1[0], trainDS1[0][0].shape, trainDS1[0][1].shape"
   ]
  },
  {
   "cell_type": "code",
   "execution_count": 20,
   "metadata": {
    "ExecuteTime": {
     "end_time": "2024-04-15T04:11:40.563686700Z",
     "start_time": "2024-04-15T04:11:40.460664200Z"
    }
   },
   "outputs": [],
   "source": [
    "BATCH_SIZE = 100\n",
    "trainDL1 = DataLoader(trainDS1, batch_size=BATCH_SIZE, shuffle=True, collate_fn=collate_fn)\n",
    "validDL1 = DataLoader(validDS1, batch_size=BATCH_SIZE, shuffle=True, collate_fn=collate_fn)\n",
    "testDL1 = DataLoader(testDS1, batch_size=BATCH_SIZE, shuffle=True, collate_fn=collate_fn, drop_last=True)"
   ]
  },
  {
   "cell_type": "code",
   "execution_count": 21,
   "metadata": {
    "ExecuteTime": {
     "end_time": "2024-04-15T04:11:49.334655700Z",
     "start_time": "2024-04-15T04:11:40.513675700Z"
    }
   },
   "outputs": [],
   "source": [
    "device = 'cuda' if torch.cuda.is_available() else 'cpu'\n",
    "model = torch.load('./data/backup_model/bbbest_model100.pkl')\n",
    "optim = torch.optim.Adam(model.parameters())\n",
    "schd = torch.optim.lr_scheduler.ReduceLROnPlateau(optim)"
   ]
  },
  {
   "cell_type": "code",
   "execution_count": 22,
   "metadata": {
    "ExecuteTime": {
     "end_time": "2024-04-15T04:03:42.667329800Z",
     "start_time": "2024-04-15T02:50:18.909442500Z"
    }
   },
   "outputs": [
    {
     "name": "stdout",
     "output_type": "stream",
     "text": [
      "Proceeding.......\n",
      "Epoch [    1 /   100] ------\n",
      "train cost = 1.7651617527008057, valid cost = 4.694690227508545\n",
      "Proceeding.......\n",
      "Epoch [    2 /   100] ------\n",
      "train cost = 1.7253097295761108, valid cost = 4.475507736206055\n",
      "Proceeding.......\n",
      "Epoch [    3 /   100] ------\n",
      "train cost = 1.915759801864624, valid cost = 4.423345565795898\n",
      "Proceeding.......\n",
      "Epoch [    4 /   100] ------\n",
      "train cost = 1.7069817781448364, valid cost = 4.38610315322876\n",
      "Proceeding.......\n",
      "Epoch [    5 /   100] ------\n",
      "train cost = 1.708423137664795, valid cost = 4.7989678382873535\n",
      "Proceeding.......\n",
      "Epoch [    6 /   100] ------\n",
      "train cost = 1.6390423774719238, valid cost = 4.980526447296143\n",
      "Proceeding.......\n",
      "Epoch [    7 /   100] ------\n",
      "train cost = 1.6138116121292114, valid cost = 5.122561931610107\n",
      "Proceeding.......\n",
      "Epoch [    8 /   100] ------\n",
      "train cost = 1.4270226955413818, valid cost = 5.300695896148682\n",
      "Proceeding.......\n",
      "Epoch [    9 /   100] ------\n",
      "train cost = 1.3651195764541626, valid cost = 5.454405307769775\n",
      "Proceeding.......\n",
      "Epoch [   10 /   100] ------\n",
      "train cost = 1.344240427017212, valid cost = 5.457028865814209\n",
      "Proceeding.......\n",
      "Epoch [   11 /   100] ------\n",
      "train cost = 1.4586645364761353, valid cost = 6.605288028717041\n",
      "Proceeding.......\n",
      "Epoch [   12 /   100] ------\n",
      "train cost = 1.2785638570785522, valid cost = 6.237948894500732\n",
      "Proceeding.......\n",
      "Epoch [   13 /   100] ------\n",
      "train cost = 1.2951077222824097, valid cost = 6.501620769500732\n",
      "Proceeding.......\n",
      "Epoch [   14 /   100] ------\n",
      "train cost = 1.097597360610962, valid cost = 6.497583866119385\n",
      "Proceeding.......\n",
      "Epoch [   15 /   100] ------\n",
      "train cost = 1.1313046216964722, valid cost = 6.753984451293945\n",
      "Proceeding.......\n",
      "Epoch [   16 /   100] ------\n",
      "train cost = 1.0333335399627686, valid cost = 7.450906276702881\n",
      "Proceeding.......\n",
      "Epoch [   17 /   100] ------\n",
      "train cost = 1.0980687141418457, valid cost = 7.722268581390381\n",
      "Proceeding.......\n",
      "Epoch [   18 /   100] ------\n",
      "train cost = 0.8620628714561462, valid cost = 7.535660743713379\n",
      "Proceeding.......\n",
      "Epoch [   19 /   100] ------\n",
      "train cost = 0.8737772703170776, valid cost = 7.46146821975708\n",
      "Proceeding.......\n",
      "Epoch [   20 /   100] ------\n",
      "train cost = 0.9578850865364075, valid cost = 7.560370922088623\n",
      "Proceeding.......\n",
      "Epoch [   21 /   100] ------\n",
      "train cost = 0.9309980273246765, valid cost = 8.045647621154785\n",
      "Proceeding.......\n",
      "Epoch [   22 /   100] ------\n",
      "train cost = 0.7908055186271667, valid cost = 7.972855091094971\n",
      "Proceeding.......\n",
      "Epoch [   23 /   100] ------\n",
      "train cost = 0.8100633025169373, valid cost = 8.41311264038086\n",
      "Proceeding.......\n",
      "Epoch [   24 /   100] ------\n",
      "train cost = 0.8068945407867432, valid cost = 7.872008323669434\n",
      "Proceeding.......\n",
      "Epoch [   25 /   100] ------\n",
      "train cost = 0.7289448976516724, valid cost = 8.5531587600708\n",
      "Proceeding.......\n",
      "Epoch [   26 /   100] ------\n",
      "train cost = 0.8752719163894653, valid cost = 8.519639015197754\n",
      "Proceeding.......\n",
      "Epoch [   27 /   100] ------\n",
      "train cost = 0.6773935556411743, valid cost = 8.951745986938477\n",
      "Proceeding.......\n",
      "Epoch [   28 /   100] ------\n",
      "train cost = 0.8003653287887573, valid cost = 8.621533393859863\n",
      "Proceeding.......\n",
      "Epoch [   29 /   100] ------\n",
      "train cost = 0.8296130299568176, valid cost = 8.458518981933594\n",
      "Proceeding.......\n",
      "Epoch [   30 /   100] ------\n",
      "train cost = 0.7783332467079163, valid cost = 8.451055526733398\n",
      "Proceeding.......\n",
      "Epoch [   31 /   100] ------\n",
      "train cost = 0.8186232447624207, valid cost = 8.061084747314453\n",
      "Proceeding.......\n",
      "Epoch [   32 /   100] ------\n",
      "train cost = 0.8007323741912842, valid cost = 8.3916015625\n",
      "Proceeding.......\n",
      "Epoch [   33 /   100] ------\n",
      "train cost = 0.7674494981765747, valid cost = 8.9806489944458\n",
      "Proceeding.......\n",
      "Epoch [   34 /   100] ------\n",
      "train cost = 0.8017828464508057, valid cost = 8.208666801452637\n",
      "Proceeding.......\n",
      "Epoch [   35 /   100] ------\n",
      "train cost = 0.739704430103302, valid cost = 8.405577659606934\n",
      "Proceeding.......\n",
      "Epoch [   36 /   100] ------\n",
      "train cost = 0.744963526725769, valid cost = 8.788217544555664\n",
      "Proceeding.......\n",
      "Epoch [   37 /   100] ------\n",
      "train cost = 0.7706929445266724, valid cost = 9.377010345458984\n",
      "Proceeding.......\n",
      "Epoch [   38 /   100] ------\n",
      "train cost = 0.6952160596847534, valid cost = 9.21212100982666\n",
      "Proceeding.......\n",
      "Epoch [   39 /   100] ------\n",
      "train cost = 0.7670814394950867, valid cost = 9.0007905960083\n",
      "Proceeding.......\n",
      "Epoch [   40 /   100] ------\n",
      "train cost = 0.74004727602005, valid cost = 8.83580207824707\n",
      "Proceeding.......\n",
      "Epoch [   41 /   100] ------\n",
      "train cost = 0.735892117023468, valid cost = 8.471577644348145\n",
      "Proceeding.......\n",
      "Epoch [   42 /   100] ------\n",
      "train cost = 0.6898237466812134, valid cost = 8.989203453063965\n",
      "Proceeding.......\n",
      "Epoch [   43 /   100] ------\n",
      "train cost = 0.7043353915214539, valid cost = 8.406282424926758\n",
      "Proceeding.......\n",
      "Epoch [   44 /   100] ------\n",
      "train cost = 0.8084210157394409, valid cost = 8.481268882751465\n",
      "Proceeding.......\n",
      "Epoch [   45 /   100] ------\n",
      "train cost = 0.6648593544960022, valid cost = 8.885357856750488\n",
      "Proceeding.......\n",
      "Epoch [   46 /   100] ------\n",
      "train cost = 0.8143444061279297, valid cost = 8.335768699645996\n",
      "Proceeding.......\n",
      "Epoch [   47 /   100] ------\n",
      "train cost = 0.7140849232673645, valid cost = 8.26297378540039\n",
      "Proceeding.......\n",
      "Epoch [   48 /   100] ------\n",
      "train cost = 0.7646476030349731, valid cost = 9.227602005004883\n",
      "Proceeding.......\n",
      "Epoch [   49 /   100] ------\n",
      "train cost = 0.728628396987915, valid cost = 8.520432472229004\n",
      "Proceeding.......\n",
      "Epoch [   50 /   100] ------\n",
      "train cost = 0.7559221982955933, valid cost = 8.462656021118164\n",
      "Proceeding.......\n",
      "Epoch [   51 /   100] ------\n",
      "train cost = 0.7156203389167786, valid cost = 8.447696685791016\n",
      "Proceeding.......\n",
      "Epoch [   52 /   100] ------\n",
      "train cost = 0.6611353754997253, valid cost = 9.074141502380371\n",
      "Proceeding.......\n",
      "Epoch [   53 /   100] ------\n",
      "train cost = 0.7328208684921265, valid cost = 8.947175025939941\n",
      "Proceeding.......\n",
      "Epoch [   54 /   100] ------\n",
      "train cost = 0.6930789947509766, valid cost = 9.070685386657715\n",
      "Proceeding.......\n",
      "Epoch [   55 /   100] ------\n",
      "train cost = 0.7469831705093384, valid cost = 8.16989803314209\n",
      "Proceeding.......\n",
      "Epoch [   56 /   100] ------\n",
      "train cost = 0.6432655453681946, valid cost = 8.638606071472168\n",
      "Proceeding.......\n",
      "Epoch [   57 /   100] ------\n",
      "train cost = 0.726008415222168, valid cost = 9.336105346679688\n",
      "Proceeding.......\n",
      "Epoch [   58 /   100] ------\n",
      "train cost = 0.7024691700935364, valid cost = 9.072577476501465\n",
      "Proceeding.......\n",
      "Epoch [   59 /   100] ------\n",
      "train cost = 0.8837711811065674, valid cost = 7.950550556182861\n",
      "Proceeding.......\n",
      "Epoch [   60 /   100] ------\n",
      "train cost = 0.6992828249931335, valid cost = 9.112536430358887\n",
      "Proceeding.......\n",
      "Epoch [   61 /   100] ------\n",
      "train cost = 0.6943383812904358, valid cost = 8.605568885803223\n",
      "Proceeding.......\n",
      "Epoch [   62 /   100] ------\n",
      "train cost = 0.6948937177658081, valid cost = 9.007500648498535\n",
      "Proceeding.......\n",
      "Epoch [   63 /   100] ------\n",
      "train cost = 0.7414249777793884, valid cost = 8.616581916809082\n",
      "Proceeding.......\n",
      "Epoch [   64 /   100] ------\n",
      "train cost = 0.7231006622314453, valid cost = 9.073773384094238\n",
      "Proceeding.......\n",
      "Epoch [   65 /   100] ------\n",
      "train cost = 0.931850254535675, valid cost = 8.145855903625488\n",
      "Proceeding.......\n",
      "Epoch [   66 /   100] ------\n",
      "train cost = 0.908146321773529, valid cost = 7.88485860824585\n",
      "Proceeding.......\n",
      "Epoch [   67 /   100] ------\n",
      "train cost = 0.6741160154342651, valid cost = 8.674428939819336\n",
      "Proceeding.......\n",
      "Epoch [   68 /   100] ------\n",
      "train cost = 0.7865546941757202, valid cost = 8.261794090270996\n",
      "Proceeding.......\n",
      "Epoch [   69 /   100] ------\n",
      "train cost = 0.788885772228241, valid cost = 8.561572074890137\n",
      "Proceeding.......\n",
      "Epoch [   70 /   100] ------\n",
      "train cost = 0.67995685338974, valid cost = 8.92934513092041\n",
      "Proceeding.......\n",
      "Epoch [   71 /   100] ------\n",
      "train cost = 0.7016286253929138, valid cost = 8.57004451751709\n",
      "Proceeding.......\n",
      "Epoch [   72 /   100] ------\n",
      "train cost = 0.7407428622245789, valid cost = 9.292773246765137\n",
      "Proceeding.......\n",
      "Epoch [   73 /   100] ------\n",
      "train cost = 0.8444987535476685, valid cost = 9.026921272277832\n",
      "Proceeding.......\n",
      "Epoch [   74 /   100] ------\n",
      "train cost = 0.810768723487854, valid cost = 8.392017364501953\n",
      "Proceeding.......\n",
      "Epoch [   75 /   100] ------\n",
      "train cost = 0.8013786673545837, valid cost = 8.453280448913574\n",
      "Proceeding.......\n",
      "Epoch [   76 /   100] ------\n",
      "train cost = 0.6827232837677002, valid cost = 8.224615097045898\n",
      "Proceeding.......\n",
      "Epoch [   77 /   100] ------\n",
      "train cost = 0.7722588777542114, valid cost = 9.32781982421875\n",
      "Proceeding.......\n",
      "Epoch [   78 /   100] ------\n",
      "train cost = 0.6642475724220276, valid cost = 9.807514190673828\n",
      "Proceeding.......\n",
      "Epoch [   79 /   100] ------\n",
      "train cost = 0.6688448786735535, valid cost = 9.171453475952148\n",
      "Proceeding.......\n",
      "Epoch [   80 /   100] ------\n",
      "train cost = 0.7957244515419006, valid cost = 8.82472038269043\n",
      "Proceeding.......\n",
      "Epoch [   81 /   100] ------\n",
      "train cost = 0.7507489323616028, valid cost = 8.274336814880371\n",
      "Proceeding.......\n",
      "Epoch [   82 /   100] ------\n",
      "train cost = 0.738647997379303, valid cost = 8.770477294921875\n",
      "Proceeding.......\n",
      "Epoch [   83 /   100] ------\n",
      "train cost = 0.6602039337158203, valid cost = 9.301451683044434\n",
      "Proceeding.......\n",
      "Epoch [   84 /   100] ------\n",
      "train cost = 0.7034597396850586, valid cost = 8.326485633850098\n",
      "Proceeding.......\n",
      "Epoch [   85 /   100] ------\n",
      "train cost = 0.657745897769928, valid cost = 8.738532066345215\n",
      "Proceeding.......\n",
      "Epoch [   86 /   100] ------\n",
      "train cost = 0.7200321555137634, valid cost = 8.57064437866211\n",
      "Proceeding.......\n",
      "Epoch [   87 /   100] ------\n",
      "train cost = 0.7165757417678833, valid cost = 9.282428741455078\n",
      "Proceeding.......\n",
      "Epoch [   88 /   100] ------\n",
      "train cost = 0.7103251218795776, valid cost = 8.945746421813965\n",
      "Proceeding.......\n",
      "Epoch [   89 /   100] ------\n",
      "train cost = 0.7938261032104492, valid cost = 8.811569213867188\n",
      "Proceeding.......\n",
      "Epoch [   90 /   100] ------\n",
      "train cost = 0.736095130443573, valid cost = 8.544868469238281\n",
      "Proceeding.......\n",
      "Epoch [   91 /   100] ------\n",
      "train cost = 0.7219893336296082, valid cost = 8.677827835083008\n",
      "Proceeding.......\n",
      "Epoch [   92 /   100] ------\n",
      "train cost = 0.7181577086448669, valid cost = 8.279481887817383\n",
      "Proceeding.......\n",
      "Epoch [   93 /   100] ------\n",
      "train cost = 0.7715035080909729, valid cost = 9.05465030670166\n",
      "Proceeding.......\n",
      "Epoch [   94 /   100] ------\n",
      "train cost = 0.6908654570579529, valid cost = 8.571712493896484\n",
      "Proceeding.......\n",
      "Epoch [   95 /   100] ------\n",
      "train cost = 0.755185067653656, valid cost = 9.272491455078125\n",
      "Proceeding.......\n",
      "Epoch [   96 /   100] ------\n",
      "train cost = 0.6500938534736633, valid cost = 9.123037338256836\n",
      "Proceeding.......\n",
      "Epoch [   97 /   100] ------\n",
      "train cost = 0.7380132675170898, valid cost = 8.729423522949219\n",
      "Proceeding.......\n",
      "Epoch [   98 /   100] ------\n",
      "train cost = 0.772801399230957, valid cost = 9.084444046020508\n",
      "Proceeding.......\n",
      "Epoch [   99 /   100] ------\n",
      "train cost = 0.8523271083831787, valid cost = 8.892427444458008\n",
      "Proceeding.......\n",
      "Epoch [  100 /   100] ------\n",
      "train cost = 0.7648451328277588, valid cost = 8.491657257080078\n",
      "--- Model train completed ---\n"
     ]
    }
   ],
   "source": [
    "result = train_model(model, optim, trainDL1, validDL1, device, epochs=100, schd=schd)"
   ]
  },
  {
   "cell_type": "code",
   "execution_count": 22,
   "metadata": {
    "ExecuteTime": {
     "end_time": "2024-04-15T04:11:50.166842900Z",
     "start_time": "2024-04-15T04:11:49.372664100Z"
    }
   },
   "outputs": [],
   "source": [
    "torch.save(model, './bbbest_model200.pkl')"
   ]
  },
  {
   "cell_type": "code",
   "execution_count": 24,
   "metadata": {
    "ExecuteTime": {
     "end_time": "2024-04-15T04:12:48.784794400Z",
     "start_time": "2024-04-15T04:12:48.714778300Z"
    }
   },
   "outputs": [],
   "source": [
    "testModel1 = torch.load('./bbbest_model200.pkl')"
   ]
  },
  {
   "cell_type": "code",
   "execution_count": null,
   "metadata": {
    "ExecuteTime": {
     "start_time": "2024-04-15T04:11:53.317549600Z"
    }
   },
   "outputs": [],
   "source": [
    "# train_costs = [res.cpu().item() for res in result[0]]\n",
    "# valid_costs = [res.cpu().item() for res in result[1]]\n",
    "# \n",
    "# plt.plot(train_costs)\n",
    "# plt.plot(valid_costs)\n",
    "# plt.legend(['train', 'valid'])\n",
    "# plt.grid(alpha=0.35)\n",
    "# plt.xlabel('Epochs')\n",
    "# plt.ylabel('Cost')\n",
    "# plt.show()"
   ]
  },
  {
   "cell_type": "code",
   "execution_count": 25,
   "metadata": {
    "ExecuteTime": {
     "end_time": "2024-04-15T04:13:07.554007500Z",
     "start_time": "2024-04-15T04:12:51.338368Z"
    }
   },
   "outputs": [
    {
     "name": "stdout",
     "output_type": "stream",
     "text": [
      "Proceeding....Trial   0 --- \n",
      "test cost = 1.8939456939697266\n",
      "Trial   1 --- \n",
      "test cost = 1.7803099155426025\n",
      "Trial   2 --- \n",
      "test cost = 1.7295544147491455\n",
      "Trial   3 --- \n",
      "test cost = 1.7865819931030273\n",
      "Trial   4 --- \n",
      "test cost = 1.597320795059204\n",
      "Trial   5 --- \n",
      "test cost = 1.7567977905273438\n",
      "Trial   6 --- \n",
      "test cost = 1.8789336681365967\n",
      "Trial   7 --- \n",
      "test cost = 1.7513123750686646\n",
      "Trial   8 --- \n",
      "test cost = 1.7931658029556274\n",
      "Trial   9 --- \n",
      "test cost = 1.8248494863510132\n",
      ".Trial  10 --- \n",
      "test cost = 1.8981451988220215\n",
      "Trial  11 --- \n",
      "test cost = 1.7208678722381592\n",
      "Trial  12 --- \n",
      "test cost = 2.0672380924224854\n",
      "Trial  13 --- \n",
      "test cost = 1.8862444162368774\n"
     ]
    }
   ],
   "source": [
    "test_result = test_model(testModel1, testDL1, device)"
   ]
  },
  {
   "cell_type": "code",
   "execution_count": 26,
   "metadata": {
    "collapsed": false,
    "ExecuteTime": {
     "end_time": "2024-04-15T04:13:07.612020500Z",
     "start_time": "2024-04-15T04:13:07.575012600Z"
    }
   },
   "outputs": [
    {
     "data": {
      "text/plain": "1.8118048225130354"
     },
     "execution_count": 26,
     "metadata": {},
     "output_type": "execute_result"
    }
   ],
   "source": [
    "sum(test_result) / len(test_result)"
   ]
  },
  {
   "cell_type": "code",
   "execution_count": 28,
   "metadata": {
    "ExecuteTime": {
     "end_time": "2024-04-15T04:03:42.798358900Z",
     "start_time": "2024-04-15T04:03:42.782355400Z"
    }
   },
   "outputs": [],
   "source": [
    "# check_id = 2000\n",
    "# \n",
    "# imgTS = torch.FloatTensor(test_img_list[check_id]).unsqueeze(dim=0).to(device)\n",
    "# \n",
    "# testModel1.eval()\n",
    "# \n",
    "# pre1 = testModel1(imgTS)\n",
    "# \n",
    "# print(torch.argmax(pre1, dim=-1)[0])\n",
    "# \n",
    "# for id in torch.argmax(pre1, dim=-1)[0]:\n",
    "#     letter = eng_only_vocab.decoder[id.item()]\n",
    "#     if letter != '<PAD>':\n",
    "#         print(letter, end=', ')\n",
    "#     \n",
    "# print(f'\\n{test_label[check_id]}')\n",
    "# print(tf(trainTS[check_id]).show())"
   ]
  },
  {
   "cell_type": "code",
   "execution_count": 28,
   "metadata": {
    "collapsed": false,
    "ExecuteTime": {
     "end_time": "2024-04-15T04:03:42.808361300Z",
     "start_time": "2024-04-15T04:03:42.794358400Z"
    }
   },
   "outputs": [],
   "source": []
  }
 ],
 "metadata": {
  "kernelspec": {
   "display_name": "My_38",
   "language": "python",
   "name": "python3"
  },
  "language_info": {
   "codemirror_mode": {
    "name": "ipython",
    "version": 3
   },
   "file_extension": ".py",
   "mimetype": "text/x-python",
   "name": "python",
   "nbconvert_exporter": "python",
   "pygments_lexer": "ipython3",
   "version": "3.8.18"
  }
 },
 "nbformat": 4,
 "nbformat_minor": 2
}
