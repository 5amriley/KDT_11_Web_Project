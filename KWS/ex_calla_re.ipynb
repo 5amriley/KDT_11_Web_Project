{
 "cells": [
  {
   "cell_type": "code",
   "execution_count": 2,
   "metadata": {},
   "outputs": [],
   "source": [
    "import os\n",
    "import random\n",
    "import numpy as np\n",
    "import pandas as pd\n",
    "from tqdm import tqdm\n",
    "import torch\n",
    "import torch.nn as nn\n",
    "import torch.nn.functional as F\n",
    "from torch.utils.data import random_split\n",
    "from torch.utils.data import DataLoader, Dataset, Subset,random_split\n",
    "from torch.utils.data import random_split, SubsetRandomSampler\n",
    "from torchvision import datasets, transforms, models \n",
    "from torchvision.datasets import ImageFolder\n",
    "from torchvision.transforms import ToTensor\n",
    "from torchvision.utils import make_grid\n",
    "# from pytorch_lightning import LightningModule\n",
    "# from pytorch_lightning import Trainer\n",
    "# import pytorch_lightning as pl\n",
    "import matplotlib.pyplot as plt\n",
    "%matplotlib inline\n",
    "from sklearn.model_selection import train_test_split\n",
    "from sklearn.metrics import classification_report\n",
    "from PIL import Image\n"
   ]
  },
  {
   "cell_type": "markdown",
   "metadata": {},
   "source": [
    "Train\n",
    "Test\n",
    "만들기\n"
   ]
  },
  {
   "cell_type": "code",
   "execution_count": 3,
   "metadata": {},
   "outputs": [],
   "source": [
    "train='./KWS\\calla\\data\\train'\n",
    "test='./KWS\\calla\\data\\test'\n"
   ]
  },
  {
   "cell_type": "code",
   "execution_count": 4,
   "metadata": {},
   "outputs": [],
   "source": [
    "from torchvision.datasets import ImageFolder\n"
   ]
  },
  {
   "cell_type": "code",
   "execution_count": 5,
   "metadata": {},
   "outputs": [
    {
     "name": "stdout",
     "output_type": "stream",
     "text": [
      "usingcpudevice\n",
      "['bdsr', 'csl', 'fwq', 'gj', 'htj', 'hy', 'lgq', 'lqs', 'lx', 'mf', 'mzd', 'oyx', 'sgt', 'shz', 'smh', 'wxz', 'wzm', 'yyr', 'yzq', 'zmf']\n"
     ]
    }
   ],
   "source": [
    "#디바이스 설정\n",
    "device=torch.device('cuda' if torch.cuda.is_available() else 'cpu')\n",
    "print(f'using{device}device')\n",
    "\n",
    "# 데이터 전처리\n",
    "data_transforms=transforms.Compose([transforms.RandomRotation(10),transforms.RandomHorizontalFlip(),transforms.CenterCrop(224),transforms.Resize(224),transforms.ToTensor(), transforms.Normalize([0.485, 0.456, 0.406],\n",
    "                             [0.229, 0.224, 0.225])])\n",
    "\n",
    "#데이터셋 로딩\n",
    "dataset=ImageFolder('data/train',transform=data_transforms)\n",
    "\n",
    "#데이터셋 분할(train:val=0.8:0.2)\n",
    "train_size=int(0.8 *len(dataset))\n",
    "val_size=len(dataset)-train_size\n",
    "train_data,val_data=random_split(dataset,[train_size,val_size])\n",
    "test_data = ImageFolder('data/test', transform=data_transforms)\n",
    "\n",
    "#데이터 로더 생성\n",
    "train_loader=DataLoader(train_data,batch_size=32,shuffle=True)\n",
    "val_loader=DataLoader(val_data,batch_size=32,shuffle=False)\n",
    "test_loader=DataLoader(test_data,batch_size=32,shuffle=False)\n",
    "\n",
    "#클래스 확인\n",
    "print(dataset.classes)\n"
   ]
  },
  {
   "cell_type": "markdown",
   "metadata": {},
   "source": [
    "커스텀셋 생성\n"
   ]
  },
  {
   "cell_type": "code",
   "execution_count": 6,
   "metadata": {},
   "outputs": [],
   "source": [
    "class CustomDataset(torch.utils.data.Dataset):\n",
    "    def __init__(self,data,transform=None):\n",
    "        self.data=data\n",
    "        self.transform=transform\n",
    "\n",
    "    def __len__(self):\n",
    "        return len(self.data)\n",
    "    \n",
    "    def __getitem__(self,idx):\n",
    "        path,label=self.path_imgs[idx]\n",
    "        img=Image.open(path).convert('RGB')\n",
    "        if self.transform:\n",
    "            image=self.transform(image)\n",
    "        return image,label\n",
    "\n",
    "#모델 정의\n",
    "class callamodel(nn.Module):\n",
    "    def __init__(self):\n",
    "        super(callamodel,self).__init__()\n",
    "        #모델 아키텍처 정의\n",
    "        self.conv1 = nn.Conv2d(3, 6, 3, 1)\n",
    "        self.conv2 = nn.Conv2d(6, 16, 3, 1)\n",
    "        self.fc1 = nn.Linear(16 * 54 * 54, 120)\n",
    "        self.fc2 = nn.Linear(120, 20)\n",
    "        self.fc3 = nn.Linear(20, 15)\n",
    "        self.fc4 = nn.Linear(15, len(dataset.classes))\n",
    "    def forward(self,X):\n",
    "        X = F.relu(self.conv1(X))\n",
    "        X = F.max_pool2d(X, 2, 2)\n",
    "        X = F.relu(self.conv2(X))\n",
    "        X = F.max_pool2d(X, 2, 2)\n",
    "        X = X.view(-1, 16 * 54 * 54)\n",
    "        X = F.relu(self.fc1(X))\n",
    "        X = F.relu(self.fc2(X))\n",
    "        X = F.relu(self.fc3(X))\n",
    "        X = self.fc4(X)\n",
    "        return F.log_softmax(X, dim=1)\n"
   ]
  },
  {
   "cell_type": "code",
   "execution_count": 15,
   "metadata": {},
   "outputs": [
    {
     "name": "stdout",
     "output_type": "stream",
     "text": [
      "Validation Accuracy:90.02677774471883%\n"
     ]
    }
   ],
   "source": [
    "# 모델 인스턴스 생성\n",
    "model=callamodel().to(device)\n",
    "\n",
    "criterion=nn.CrossEntropyLoss()\n",
    "optimizer=torch.optim.AdamW(model.parameters(),lr=0.001)\n",
    "\n",
    "#모델 학습\n",
    "EPOCH=100\n",
    "for epoch in range(EPOCH):\n",
    "    train_loss=0.0\n",
    "    for inputs,labels in train_loader:\n",
    "        inputs,labels=inputs.to(device),labels.to(device)\n",
    "        optimizer.zero_grad()\n",
    "        outputs=model(inputs)\n",
    "        # print(f'shape가 잘 나오나?? {outputs.shape}')\n",
    "        loss=criterion(outputs,labels)\n",
    "        loss.backward()\n",
    "        optimizer.step()\n",
    "        train_loss+=loss.item()\n",
    "    print(f'Epoch {epoch+1},Train Loss:{train_loss/len(train_loader)}')\n",
    "\n",
    "#모델 평가 \n",
    "model.eval()\n",
    "correct=0\n",
    "total=0\n",
    "with torch.no_grad():\n",
    "    for inputs,labels in val_loader:\n",
    "        # RuntimeError: Input type (torch.FloatTensor) and weight type (torch.cuda.FloatTensor) should be the same or input should be a MKLDNN tensor and weight is a dense tensor\n",
    "        inputs,labels=inputs.to(device),labels.to(device)   # 에러 해결하기 위해 이 코드 추가함\n",
    "        outputs=model(inputs)\n",
    "        _,predicted=torch.max(outputs.data,1)\n",
    "        total +=labels.size(0)\n",
    "        correct+=(predicted==labels).sum().item()\n",
    "        # 모델 저장\n",
    "        torch.save(model, 'model.pth')\n",
    "    print(f'Validation Accuracy:{100* correct/total}%')\n"
   ]
  },
  {
   "cell_type": "code",
   "execution_count": null,
   "metadata": {},
   "outputs": [],
   "source": [
    "\n",
    "\n",
    "# # 기존 모델 불러오기\n",
    "# saved_model = torch.load('model.pth')\n"
   ]
  },
  {
   "cell_type": "code",
   "execution_count": null,
   "metadata": {},
   "outputs": [
    {
     "name": "stdout",
     "output_type": "stream",
     "text": [
      "예측된 클래스: shz\n"
     ]
    }
   ],
   "source": [
    "# import torch\n",
    "# from PIL import Image\n",
    "\n",
    "# # 저장된 모델 불러오기\n",
    "# model = torch.load('model.pth')\n",
    "# model.eval()\n",
    "\n",
    "# # 클래스 이름 확인\n",
    "# classes = dataset.classes  \n",
    "\n",
    "# from PIL import Image\n",
    "\n",
    "# def preprocess_image(image_path):\n",
    "#     image = Image.open(image_path).convert('RGB')\n",
    "#     image_tensor = data_transforms(image).unsqueeze(0)\n",
    "#     return image_tensor\n",
    "\n",
    "# def classify_image(image_path):\n",
    "#     image_tensor = preprocess_image(image_path)\n",
    "    \n",
    "\n",
    "#     with torch.no_grad():\n",
    "#         output = model(image_tensor)\n",
    "#         _, predicted = torch.max(output, 1)\n",
    "#         predicted_class = classes[predicted.item()]\n",
    "\n",
    "#     return predicted_class\n",
    "\n",
    "# # 사용자 입력 받기\n",
    "# image_path = input(\"이미지 파일의 전체 경로를 입력하세요: \")\n",
    "# predicted_class = classify_image(image_path)\n",
    "# print(f\"예측된 클래스: {predicted_class}\")\n"
   ]
  },
  {
   "cell_type": "code",
   "execution_count": 7,
   "metadata": {},
   "outputs": [
    {
     "data": {
      "text/plain": [
       "['bdsr',\n",
       " 'csl',\n",
       " 'fwq',\n",
       " 'gj',\n",
       " 'htj',\n",
       " 'hy',\n",
       " 'lgq',\n",
       " 'lqs',\n",
       " 'lx',\n",
       " 'mf',\n",
       " 'mzd',\n",
       " 'oyx',\n",
       " 'sgt',\n",
       " 'shz',\n",
       " 'smh',\n",
       " 'wxz',\n",
       " 'wzm',\n",
       " 'yyr',\n",
       " 'yzq',\n",
       " 'zmf']"
      ]
     },
     "execution_count": 7,
     "metadata": {},
     "output_type": "execute_result"
    }
   ],
   "source": [
    "dataset.classes\n"
   ]
  },
  {
   "cell_type": "code",
   "execution_count": 28,
   "metadata": {},
   "outputs": [
    {
     "name": "stdout",
     "output_type": "stream",
     "text": [
      "예측된 클래스: 마오쩌둥\n"
     ]
    }
   ],
   "source": [
    "\n",
    "\n",
    "import torch\n",
    "from PIL import Image\n",
    "\n",
    "# 저장된 모델 불러오기\n",
    "model = torch.load('model_re.pth',map_location=device)\n",
    "model.eval()\n",
    "\n",
    "# 클래스 인덱스와 이름 매핑 딕셔너리\n",
    "class_mapping ={0:'팔대산인',\n",
    " 1:'저수량',\n",
    " 2:'범문강',\n",
    " 3:'관준',\n",
    " 4:'황정견',\n",
    " 5:'홍일',\n",
    " 6:'유공권',\n",
    " 7:'양추생',\n",
    " 8:'루쉰',\n",
    " 9:'미불',\n",
    " 10:'마오쩌둥',\n",
    " 11:'구양순',\n",
    " 12:'손과정',\n",
    " 13:'송휘종',\n",
    " 14:'사맹해',\n",
    " 15:'왕희지',\n",
    " 16:'문징명',\n",
    " 17:'우우임',\n",
    " 18:'안진경',\n",
    " 19:'조맹부'} \n",
    "\n",
    "def preprocess_image(image_path):\n",
    "    image = Image.open(image_path).convert('RGB')\n",
    "    image_tensor = data_transforms(image).unsqueeze(0)\n",
    "    return image_tensor\n",
    "\n",
    "def classify_image(image_path):\n",
    "    image_tensor = preprocess_image(image_path)\n",
    "    \n",
    "    with torch.no_grad():\n",
    "        output = model(image_tensor)\n",
    "        _, predicted = torch.max(output, 1)\n",
    "        predicted_idx = predicted.item()\n",
    "        predicted_class = class_mapping[predicted_idx]  # 매핑 딕셔너리 사용\n",
    "\n",
    "    return predicted_class\n",
    "\n",
    "# 사용자 입력 받기\n",
    "image_path = input(\"이미지 파일의 전체 경로를 입력하세요: \")\n",
    "predicted_class = classify_image(image_path)\n",
    "print(f\"예측된 클래스: {predicted_class}\")\n"
   ]
  },
  {
   "cell_type": "code",
   "execution_count": null,
   "metadata": {},
   "outputs": [],
   "source": [
    "def show_example(img, label):\n",
    "    print('Label: ', dataset.classes[label], \"(\"+str(label)+\")\")\n",
    "    plt.imshow(img.permute(1, 2, 0))\n"
   ]
  },
  {
   "cell_type": "code",
   "execution_count": null,
   "metadata": {},
   "outputs": [
    {
     "name": "stderr",
     "output_type": "stream",
     "text": [
      "Clipping input data to the valid range for imshow with RGB data ([0..1] for floats or [0..255] for integers).\n"
     ]
    },
    {
     "name": "stdout",
     "output_type": "stream",
     "text": [
      "torch.Size([3, 224, 224]) 0\n",
      "tensor([[[-2.1179, -2.1179, -2.1179,  ..., -2.1179, -2.1179, -2.1179],\n",
      "         [-2.1179, -2.1179, -2.1179,  ..., -2.1179, -2.1179, -2.1179],\n",
      "         [-2.1179, -2.1179, -2.1179,  ..., -2.1179, -2.1179, -2.1179],\n",
      "         ...,\n",
      "         [-2.1179, -2.1179, -2.1179,  ..., -2.1179, -2.1179, -2.1179],\n",
      "         [-2.1179, -2.1179, -2.1179,  ..., -2.1179, -2.1179, -2.1179],\n",
      "         [-2.1179, -2.1179, -2.1179,  ..., -2.1179, -2.1179, -2.1179]],\n",
      "\n",
      "        [[-2.0357, -2.0357, -2.0357,  ..., -2.0357, -2.0357, -2.0357],\n",
      "         [-2.0357, -2.0357, -2.0357,  ..., -2.0357, -2.0357, -2.0357],\n",
      "         [-2.0357, -2.0357, -2.0357,  ..., -2.0357, -2.0357, -2.0357],\n",
      "         ...,\n",
      "         [-2.0357, -2.0357, -2.0357,  ..., -2.0357, -2.0357, -2.0357],\n",
      "         [-2.0357, -2.0357, -2.0357,  ..., -2.0357, -2.0357, -2.0357],\n",
      "         [-2.0357, -2.0357, -2.0357,  ..., -2.0357, -2.0357, -2.0357]],\n",
      "\n",
      "        [[-1.8044, -1.8044, -1.8044,  ..., -1.8044, -1.8044, -1.8044],\n",
      "         [-1.8044, -1.8044, -1.8044,  ..., -1.8044, -1.8044, -1.8044],\n",
      "         [-1.8044, -1.8044, -1.8044,  ..., -1.8044, -1.8044, -1.8044],\n",
      "         ...,\n",
      "         [-1.8044, -1.8044, -1.8044,  ..., -1.8044, -1.8044, -1.8044],\n",
      "         [-1.8044, -1.8044, -1.8044,  ..., -1.8044, -1.8044, -1.8044],\n",
      "         [-1.8044, -1.8044, -1.8044,  ..., -1.8044, -1.8044, -1.8044]]])\n",
      "Label:  bdsr (0)\n"
     ]
    },
    {
     "data": {
      "image/png": "[encoded data removed]",
      "text/plain": [
       "<Figure size 640x480 with 1 Axes>"
      ]
     },
     "metadata": {},
     "output_type": "display_data"
    }
   ],
   "source": [
    "# Example from class 1\n",
    "img1, label1 = dataset[0]\n",
    "print(img1.shape, label1)\n",
    "print(img1)\n",
    "show_example(*dataset[0])\n"
   ]
  },
  {
   "cell_type": "code",
   "execution_count": null,
   "metadata": {},
   "outputs": [],
   "source": []
  }
 ],
 "metadata": {
  "kernelspec": {
   "display_name": "Torch_PY38",
   "language": "python",
   "name": "python3"
  },
  "language_info": {
   "codemirror_mode": {
    "name": "ipython",
    "version": 3
   },
   "file_extension": ".py",
   "mimetype": "text/x-python",
   "name": "python",
   "nbconvert_exporter": "python",
   "pygments_lexer": "ipython3",
   "version": "3.8.19"
  }
 },
 "nbformat": 4,
 "nbformat_minor": 2
}
